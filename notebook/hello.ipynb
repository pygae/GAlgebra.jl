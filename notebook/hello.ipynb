{
 "cells": [
  {
   "cell_type": "code",
   "execution_count": 1,
   "metadata": {},
   "outputs": [
    {
     "name": "stderr",
     "output_type": "stream",
     "text": [
      "\u001b[32m\u001b[1m  Activating\u001b[22m\u001b[39m project at `/workspaces/GAlgebra.jl`\n"
     ]
    },
    {
     "name": "stderr",
     "output_type": "stream",
     "text": [
      "\u001b[32m\u001b[1m    Building\u001b[22m\u001b[39m Conda ─→ `~/.julia/scratchspaces/44cfe95a-1eb2-52ea-b672-e2afdf69b78f/e32a90da027ca45d84678b826fffd3110bb3fc90/build.log`\n"
     ]
    },
    {
     "name": "stderr",
     "output_type": "stream",
     "text": [
      "\u001b[32m\u001b[1m    Building\u001b[22m\u001b[39m PyCall → `~/.julia/scratchspaces/44cfe95a-1eb2-52ea-b672-e2afdf69b78f/62f417f6ad727987c755549e9cd88c46578da562/build.log`\n"
     ]
    },
    {
     "name": "stderr",
     "output_type": "stream",
     "text": [
      "\u001b[32m\u001b[1m    Updating\u001b[22m\u001b[39m registry at `~/.julia/registries/General.toml`\n",
      "\u001b[32m\u001b[1m   Resolving\u001b[22m\u001b[39m package versions...\n"
     ]
    },
    {
     "name": "stderr",
     "output_type": "stream",
     "text": [
      "\u001b[32m\u001b[1m  No Changes\u001b[22m\u001b[39m to `/workspaces/GAlgebra.jl/Project.toml`\n",
      "\u001b[32m\u001b[1m  No Changes\u001b[22m\u001b[39m to `/workspaces/GAlgebra.jl/Manifest.toml`\n",
      "\u001b[32m\u001b[1m   Resolving\u001b[22m\u001b[39m package versions...\n"
     ]
    },
    {
     "name": "stderr",
     "output_type": "stream",
     "text": [
      "\u001b[32m\u001b[1m    Updating\u001b[22m\u001b[39m `/workspaces/GAlgebra.jl/Project.toml`\n",
      " \u001b[90m [8dfed614] \u001b[39m\u001b[92m+ Test\u001b[39m\n",
      "\u001b[32m\u001b[1m  No Changes\u001b[22m\u001b[39m to `/workspaces/GAlgebra.jl/Manifest.toml`\n"
     ]
    }
   ],
   "source": [
    "using Pkg\n",
    "Pkg.activate(\"..\")\n",
    "Pkg.build(\"PyCall\")\n",
    "\n",
    "Pkg.add(\"SymPy\")\n",
    "Pkg.add(\"Test\")"
   ]
  },
  {
   "cell_type": "code",
   "execution_count": 2,
   "metadata": {},
   "outputs": [
    {
     "name": "stderr",
     "output_type": "stream",
     "text": [
      "┌ Info: Installing sympy via the Conda sympy package...\n",
      "└ @ PyCall /home/vscode/.julia/packages/PyCall/twYvK/src/PyCall.jl:719\n",
      "┌ Info: Running `conda install -y sympy` in root environment\n",
      "└ @ Conda /home/vscode/.julia/packages/Conda/kOnIE/src/Conda.jl:127\n"
     ]
    },
    {
     "name": "stdout",
     "output_type": "stream",
     "text": [
      "Collecting package metadata (current_repodata.json): ...working... "
     ]
    },
    {
     "name": "stdout",
     "output_type": "stream",
     "text": [
      "done\n",
      "Solving environment: ...working... "
     ]
    },
    {
     "name": "stdout",
     "output_type": "stream",
     "text": [
      "done\n"
     ]
    },
    {
     "name": "stdout",
     "output_type": "stream",
     "text": [
      "\n",
      "## Package Plan ##\n",
      "\n",
      "  environment location: /home/vscode/.julia/conda/3/x86_64\n",
      "\n",
      "  added / updated specs:\n",
      "    - sympy\n",
      "\n",
      "\n",
      "The following packages will be downloaded:\n",
      "\n",
      "    package                    |            build\n",
      "    ---------------------------|-----------------\n",
      "    gmp-6.2.1                  |       h58526e2_0         806 KB  conda-forge\n",
      "    gmpy2-2.1.2                |  py310h3ec546c_1         215 KB  conda-forge\n",
      "    mpc-1.3.1                  |       hfe3b2da_0         114 KB  conda-forge\n",
      "    mpfr-4.2.0                 |       hb012696_0         616 KB  conda-forge\n",
      "    mpmath-1.3.0               |     pyhd8ed1ab_0         428 KB  conda-forge\n",
      "    sympy-1.12                 | pypyh9d50eac_103         4.1 MB  conda-forge\n",
      "    ------------------------------------------------------------\n",
      "                                           Total:         6.2 MB\n",
      "\n",
      "The following NEW packages will be INSTALLED:\n",
      "\n",
      "  gmp                conda-forge/linux-64::gmp-6.2.1-h58526e2_0 \n",
      "  gmpy2              conda-forge/linux-64::gmpy2-2.1.2-py310h3ec546c_1 \n",
      "  mpc                conda-forge/linux-64::mpc-1.3.1-hfe3b2da_0 \n",
      "  mpfr               conda-forge/linux-64::mpfr-4.2.0-hb012696_0 \n",
      "  mpmath             conda-forge/noarch::mpmath-1.3.0-pyhd8ed1ab_0 \n",
      "  sympy              conda-forge/noarch::sympy-1.12-pypyh9d50eac_103 \n",
      "\n",
      "\n",
      "\n",
      "Downloading and Extracting Packages\n",
      "\rmpc-1.3.1            | 114 KB    |            |   0% \n",
      "\rmpfr-4.2.0           | 616 KB    |            |   0% \u001b[A\n",
      "\n",
      "\rmpmath-1.3.0         | 428 KB    |            |   0% \u001b[A\u001b[A\n",
      "\n",
      "\n",
      "\rgmp-6.2.1            | 806 KB    |            |   0% \u001b[A\u001b[A\u001b[A\n",
      "\n",
      "\n",
      "\n",
      "\rgmpy2-2.1.2          | 215 KB    |            |   0% \u001b[A\u001b[A\u001b[A\u001b[A\n",
      "\n",
      "\n",
      "\n",
      "\n",
      "\rsympy-1.12           | 4.1 MB    |            |   0% \u001b[A\u001b[A\u001b[A\u001b[A\u001b[A"
     ]
    },
    {
     "name": "stdout",
     "output_type": "stream",
     "text": [
      "\rmpc-1.3.1            | 114 KB    | #4         |  14% \n",
      "\n",
      "\rmpmath-1.3.0         | 428 KB    | 3          |   4% \u001b[A\u001b[A\n",
      "\rmpfr-4.2.0           | 616 KB    | 2          |   3% \u001b[A\n",
      "\n",
      "\n",
      "\n",
      "\n",
      "\rsympy-1.12           | 4.1 MB    |            |   0% \u001b[A\u001b[A\u001b[A\u001b[A\u001b[A\n",
      "\n",
      "\n",
      "\n",
      "\rgmpy2-2.1.2          | 215 KB    | 7          |   7% \u001b[A\u001b[A\u001b[A\u001b[A\n",
      "\n",
      "\n",
      "\rgmp-6.2.1            | 806 KB    | 1          |   2% \u001b[A\u001b[A\u001b[A"
     ]
    },
    {
     "name": "stdout",
     "output_type": "stream",
     "text": [
      "\rmpc-1.3.1            | 114 KB    | ########## | 100% \n",
      "\n",
      "\n",
      "\n",
      "\rgmpy2-2.1.2          | 215 KB    | ########## | 100% \u001b[A\u001b[A\u001b[A\u001b[A\n",
      "\n",
      "\n",
      "\n",
      "\rgmpy2-2.1.2          | 215 KB    | ########## | 100% \u001b[A\u001b[A\u001b[A\u001b[A"
     ]
    },
    {
     "name": "stdout",
     "output_type": "stream",
     "text": [
      "\n",
      "\n",
      "\rmpmath-1.3.0         | 428 KB    | ########## | 100% \u001b[A\u001b[A\n",
      "\n",
      "\rmpmath-1.3.0         | 428 KB    | ########## | 100% \u001b[A\u001b[A\n",
      "\rmpfr-4.2.0           | 616 KB    | ########## | 100% \u001b[A\n",
      "\rmpfr-4.2.0           | 616 KB    | ########## | 100% \u001b[A"
     ]
    },
    {
     "name": "stdout",
     "output_type": "stream",
     "text": [
      "\n",
      "\n",
      "\n",
      "\rgmp-6.2.1            | 806 KB    | ########## | 100% \u001b[A\u001b[A\u001b[A\n",
      "\n",
      "\n",
      "\rgmp-6.2.1            | 806 KB    | ########## | 100% \u001b[A\u001b[A\u001b[A"
     ]
    },
    {
     "name": "stdout",
     "output_type": "stream",
     "text": [
      "\n",
      "\n",
      "\n",
      "\n",
      "\n",
      "\rsympy-1.12           | 4.1 MB    | ########## | 100% \u001b[A\u001b[A\u001b[A\u001b[A\u001b[A\n",
      "\n",
      "\n",
      "\n",
      "\n",
      "\rsympy-1.12           | 4.1 MB    | ########## | 100% \u001b[A\u001b[A\u001b[A\u001b[A\u001b[A\r                                                     \r\n",
      "\r                                                     \u001b[A\n",
      "\n",
      "\r                                                     \u001b[A\u001b[A\n",
      "\n",
      "\n",
      "\r                                                     \u001b[A\u001b[A\u001b[A\n",
      "\n",
      "\n",
      "\n",
      "\r                                                     \u001b[A\u001b[A\u001b[A\u001b[A\n",
      "\n",
      "\n",
      "\n",
      "\n",
      "\r                                                     \u001b[A\u001b[A\u001b[A\u001b[A\u001b[A\r\n",
      "Preparing transaction: ...working... "
     ]
    },
    {
     "name": "stdout",
     "output_type": "stream",
     "text": [
      "done\n",
      "Verifying transaction: ...working... "
     ]
    },
    {
     "name": "stdout",
     "output_type": "stream",
     "text": [
      "done\n",
      "Executing transaction: ...working... "
     ]
    },
    {
     "name": "stdout",
     "output_type": "stream",
     "text": [
      "done\n"
     ]
    },
    {
     "name": "stderr",
     "output_type": "stream",
     "text": [
      "┌ Info: Installing galgebra via the Conda galgebra package...\n",
      "└ @ PyCall /home/vscode/.julia/packages/PyCall/twYvK/src/PyCall.jl:719\n",
      "┌ Info: Running `conda install -y galgebra` in root environment\n",
      "└ @ Conda /home/vscode/.julia/packages/Conda/kOnIE/src/Conda.jl:127\n"
     ]
    },
    {
     "name": "stdout",
     "output_type": "stream",
     "text": [
      "Collecting package metadata (current_repodata.json): ...working... "
     ]
    },
    {
     "name": "stdout",
     "output_type": "stream",
     "text": [
      "done\n",
      "Solving environment: ...working... "
     ]
    },
    {
     "name": "stdout",
     "output_type": "stream",
     "text": [
      "done\n"
     ]
    },
    {
     "name": "stdout",
     "output_type": "stream",
     "text": [
      "\n",
      "## Package Plan ##\n",
      "\n",
      "  environment location: /home/vscode/.julia/conda/3/x86_64\n",
      "\n",
      "  added / updated specs:\n",
      "    - galgebra\n",
      "\n",
      "\n",
      "The following packages will be downloaded:\n",
      "\n",
      "    package                    |            build\n",
      "    ---------------------------|-----------------\n",
      "    galgebra-0.5.0             |  py310hff52083_3         162 KB  conda-forge\n",
      "    ------------------------------------------------------------\n",
      "                                           Total:         162 KB\n",
      "\n",
      "The following NEW packages will be INSTALLED:\n",
      "\n",
      "  galgebra           conda-forge/linux-64::galgebra-0.5.0-py310hff52083_3 \n",
      "\n",
      "\n",
      "\n",
      "Downloading and Extracting Packages\n",
      "\rgalgebra-0.5.0       | 162 KB    |            |   0% "
     ]
    },
    {
     "name": "stdout",
     "output_type": "stream",
     "text": [
      "\rgalgebra-0.5.0       | 162 KB    | 9          |  10% "
     ]
    },
    {
     "name": "stdout",
     "output_type": "stream",
     "text": [
      "\rgalgebra-0.5.0       | 162 KB    | #####9     |  59% \rgalgebra-0.5.0       | 162 KB    | ########## | 100% \r                                                     \r\r\n",
      "Preparing transaction: ...working... done\n",
      "Verifying transaction: ...working... "
     ]
    },
    {
     "name": "stdout",
     "output_type": "stream",
     "text": [
      "done\n",
      "Executing transaction: ...working... done\n"
     ]
    }
   ],
   "source": [
    "using PyCall\n",
    "import SymPy: symbols, sympy, Sym\n",
    "using GAlgebra\n",
    "using Test"
   ]
  },
  {
   "cell_type": "code",
   "execution_count": 3,
   "metadata": {},
   "outputs": [
    {
     "data": {
      "text/plain": [
       "PyObject <function signature at 0x7f45f4b28a60>"
      ]
     },
     "metadata": {},
     "output_type": "display_data"
    }
   ],
   "source": [
    "py\"\"\"\n",
    "def vector(ga, components):\n",
    "    basis = ga.mv()\n",
    "    return sum([components[i] * e for i, e in enumerate(basis)])\n",
    "\"\"\"\n",
    "const vector = py\"vector\"\n",
    "\n",
    "py\"\"\"\n",
    "def signature(ga):\n",
    "    basis = ga.mv()\n",
    "    signs = [e * e for e in basis]\n",
    "    p, q, r = 0, 0, 0\n",
    "    for sign in signs:\n",
    "        p += 1 if sign == 1 else 0\n",
    "        q += 1 if sign == -1 else 0\n",
    "        r += 1 if sign == 0 else 0\n",
    "\n",
    "    return (p, q, r)\n",
    "\"\"\"\n",
    "const signature = py\"signature\""
   ]
  },
  {
   "cell_type": "code",
   "execution_count": 4,
   "metadata": {},
   "outputs": [
    {
     "data": {
      "text/plain": [
       "PyObject <galgebra.ga.Ga object at 0x7f45f3c24340>"
      ]
     },
     "metadata": {},
     "output_type": "display_data"
    }
   ],
   "source": [
    "# Basic \n",
    "Hyper   = G(1)       # Hyperbolic numbers. \n",
    "ℂ       = G(0,1)     # Complex numbers.\n",
    "Dual    = G(0,0,1)   # Dual numbers.\n",
    "ℍ       = G(0,2)     # Quaternions.\n",
    "\n",
    "# Clifford\n",
    "Cl2       = G(2)     # Clifford algebra for 2D vector space.\n",
    "Cl3       = G(3)     # Clifford algebra for 3D vector space.\n",
    "Spacetime = G(1,3)   # Clifford algebra for timespace vectors.\n",
    "\n",
    "# Geometric\n",
    "PGA2D = G(2,0,1)     # Projective Euclidean 2D plane. (dual)\n",
    "PGA3D = G(3,0,1)     # Projective Euclidean 3D space. (dual)\n",
    "CGA2D = G(3,1)       # conformal 2D space. \n",
    "CGA3D = G(4,1)       # Conformal 3D space. "
   ]
  },
  {
   "cell_type": "code",
   "execution_count": 5,
   "metadata": {},
   "outputs": [
    {
     "data": {
      "text/plain": [
       "test_geometric_product (generic function with 1 method)"
      ]
     },
     "metadata": {},
     "output_type": "display_data"
    }
   ],
   "source": [
    "function test_geometric_product(V)\n",
    "    dimV = range(0, stop=V.n)\n",
    "    I = V.I()\n",
    "\n",
    "    α = V.mv(\"α\", \"scalar\")\n",
    "    β = V.mv(\"β\", \"scalar\")\n",
    "    γ = V.mv(\"γ\", \"scalar\")\n",
    "    λ = V.mv(\"λ\", \"scalar\")\n",
    "\n",
    "    u = V.mv(\"u\", \"vector\")\n",
    "    v = V.mv(\"v\", \"vector\")\n",
    "    w = V.mv(\"w\", \"vector\")\n",
    "\n",
    "    A = V.mv(\"A\", \"mv\")\n",
    "    B = V.mv(\"B\", \"mv\")\n",
    "    C = V.mv(\"C\", \"mv\")\n",
    "    D = V.mv(\"D\", \"mv\")\n",
    "\n",
    "    R = V.mv(\"R\", \"spinor\")\n",
    "\n",
    "    return A*B #, V.mul_table_dict)\n",
    "end"
   ]
  },
  {
   "cell_type": "code",
   "execution_count": 6,
   "metadata": {},
   "outputs": [
    {
     "name": "stdout",
     "output_type": "stream",
     "text": [
      "  0.115858 seconds (141.27 k allocations: 7.620 MiB, 92.65% compilation time)\n"
     ]
    },
    {
     "data": {
      "text/latex": [
       "\\begin{align*}\\left ( A B + A^{0} B^{0}\\right )  + \\left ( A B^{0} + A^{0} B\\right ) \\boldsymbol{e}_{0}\\end{align*}"
      ],
      "text/plain": [
       "A*B + A__0*B__0 + (A*B__0 + A__0*B)*e_0"
      ]
     },
     "metadata": {},
     "output_type": "display_data"
    }
   ],
   "source": [
    "@time test_geometric_product(Hyper)"
   ]
  },
  {
   "cell_type": "code",
   "execution_count": 7,
   "metadata": {},
   "outputs": [
    {
     "name": "stdout",
     "output_type": "stream",
     "text": [
      "  0.001846 seconds (122 allocations: 3.531 KiB)\n"
     ]
    },
    {
     "data": {
      "text/latex": [
       "\\begin{align*}A B  + \\left ( A B^{0} + A^{0} B\\right ) \\boldsymbol{e}_{0}\\end{align*}"
      ],
      "text/plain": [
       "A*B + (A*B__0 + A__0*B)*e_0"
      ]
     },
     "metadata": {},
     "output_type": "display_data"
    }
   ],
   "source": [
    "@time test_geometric_product(Dual)"
   ]
  },
  {
   "cell_type": "code",
   "execution_count": 8,
   "metadata": {},
   "outputs": [
    {
     "name": "stdout",
     "output_type": "stream",
     "text": [
      "  0.001504 seconds (122 allocations: 3.531 KiB)\n"
     ]
    },
    {
     "data": {
      "text/latex": [
       "\\begin{align*}\\left ( A B - A^{0} B^{0}\\right )  + \\left ( A B^{0} + A^{0} B\\right ) \\boldsymbol{e}_{0}\\end{align*}"
      ],
      "text/plain": [
       "A*B - A__0*B__0 + (A*B__0 + A__0*B)*e_0"
      ]
     },
     "metadata": {},
     "output_type": "display_data"
    }
   ],
   "source": [
    "@time test_geometric_product(ℂ)"
   ]
  },
  {
   "cell_type": "code",
   "execution_count": 9,
   "metadata": {},
   "outputs": [
    {
     "name": "stdout",
     "output_type": "stream",
     "text": [
      "  0.015702 seconds (122 allocations: 3.531 KiB)\n"
     ]
    },
    {
     "data": {
      "text/latex": [
       "\\begin{align*}\\left ( A B - A^{1} B^{1} - A^{12} B^{12} - A^{2} B^{2}\\right )  + \\left ( A B^{1} + A^{1} B - A^{12} B^{2} + A^{2} B^{12}\\right ) \\boldsymbol{e}_{1} + \\left ( A B^{2} - A^{1} B^{12} + A^{12} B^{1} + A^{2} B\\right ) \\boldsymbol{e}_{2} + \\left ( A B^{12} + A^{1} B^{2} + A^{12} B - A^{2} B^{1}\\right ) \\boldsymbol{e}_{1}\\wedge \\boldsymbol{e}_{2}\\end{align*}"
      ],
      "text/plain": [
       "A*B - A__1*B__1 - A__12*B__12 - A__2*B__2 + (A*B__1 + A__1*B - A__12*B__2 + A__2*B__12)*e_1 + (A*B__2 - A__1*B__12 + A__12*B__1 + A__2*B)*e_2 + (A*B__12 + A__1*B__2 + A__12*B - A__2*B__1)*e_1^e_2"
      ]
     },
     "metadata": {},
     "output_type": "display_data"
    }
   ],
   "source": [
    "@time test_geometric_product(ℍ)"
   ]
  },
  {
   "cell_type": "code",
   "execution_count": 10,
   "metadata": {},
   "outputs": [
    {
     "name": "stdout",
     "output_type": "stream",
     "text": [
      "  0.004600 seconds (122 allocations: 3.531 KiB)\n"
     ]
    },
    {
     "data": {
      "text/latex": [
       "\\begin{align*}\\left ( A B + A^{1} B^{1} - A^{12} B^{12} + A^{2} B^{2}\\right )  + \\left ( A B^{1} + A^{1} B + A^{12} B^{2} - A^{2} B^{12}\\right ) \\boldsymbol{e}_{1} + \\left ( A B^{2} + A^{1} B^{12} - A^{12} B^{1} + A^{2} B\\right ) \\boldsymbol{e}_{2} + \\left ( A B^{12} + A^{1} B^{2} + A^{12} B - A^{2} B^{1}\\right ) \\boldsymbol{e}_{1}\\wedge \\boldsymbol{e}_{2}\\end{align*}"
      ],
      "text/plain": [
       "A*B + A__1*B__1 - A__12*B__12 + A__2*B__2 + (A*B__1 + A__1*B + A__12*B__2 - A__2*B__12)*e_1 + (A*B__2 + A__1*B__12 - A__12*B__1 + A__2*B)*e_2 + (A*B__12 + A__1*B__2 + A__12*B - A__2*B__1)*e_1^e_2"
      ]
     },
     "metadata": {},
     "output_type": "display_data"
    }
   ],
   "source": [
    "@time test_geometric_product(Cl2)"
   ]
  },
  {
   "cell_type": "code",
   "execution_count": 11,
   "metadata": {},
   "outputs": [
    {
     "name": "stdout",
     "output_type": "stream",
     "text": [
      "  0.076210 seconds (122 allocations: 3.531 KiB)\n"
     ]
    },
    {
     "data": {
      "text/latex": [
       "\\begin{align*}\\left ( A B + A^{1} B^{1} - A^{12} B^{12} - A^{123} B^{123} - A^{13} B^{13} + A^{2} B^{2} - A^{23} B^{23} + A^{3} B^{3}\\right )  + \\left ( A B^{1} + A^{1} B + A^{12} B^{2} - A^{123} B^{23} + A^{13} B^{3} - A^{2} B^{12} - A^{23} B^{123} - A^{3} B^{13}\\right ) \\boldsymbol{e}_{1} + \\left ( A B^{2} + A^{1} B^{12} - A^{12} B^{1} + A^{123} B^{13} + A^{13} B^{123} + A^{2} B + A^{23} B^{3} - A^{3} B^{23}\\right ) \\boldsymbol{e}_{2} + \\left ( A B^{3} + A^{1} B^{13} - A^{12} B^{123} - A^{123} B^{12} - A^{13} B^{1} + A^{2} B^{23} - A^{23} B^{2} + A^{3} B\\right ) \\boldsymbol{e}_{3} + \\left ( A B^{12} + A^{1} B^{2} + A^{12} B + A^{123} B^{3} - A^{13} B^{23} - A^{2} B^{1} + A^{23} B^{13} + A^{3} B^{123}\\right ) \\boldsymbol{e}_{1}\\wedge \\boldsymbol{e}_{2} + \\left ( A B^{13} + A^{1} B^{3} + A^{12} B^{23} - A^{123} B^{2} + A^{13} B - A^{2} B^{123} - A^{23} B^{12} - A^{3} B^{1}\\right ) \\boldsymbol{e}_{1}\\wedge \\boldsymbol{e}_{3} + \\left ( A B^{23} + A^{1} B^{123} - A^{12} B^{13} + A^{123} B^{1} + A^{13} B^{12} + A^{2} B^{3} + A^{23} B - A^{3} B^{2}\\right ) \\boldsymbol{e}_{2}\\wedge \\boldsymbol{e}_{3} + \\left ( A B^{123} + A^{1} B^{23} + A^{12} B^{3} + A^{123} B - A^{13} B^{2} - A^{2} B^{13} + A^{23} B^{1} + A^{3} B^{12}\\right ) \\boldsymbol{e}_{1}\\wedge \\boldsymbol{e}_{2}\\wedge \\boldsymbol{e}_{3}\\end{align*}"
      ],
      "text/plain": [
       "A*B + A__1*B__1 - A__12*B__12 - A__123*B__123 - A__13*B__13 + A__2*B__2 - A__23*B__23 + A__3*B__3 + (A*B__1 + A__1*B + A__12*B__2 - A__123*B__23 + A__13*B__3 - A__2*B__12 - A__23*B__123 - A__3*B__13)*e_1 + (A*B__2 + A__1*B__12 - A__12*B__1 + A__123*B__13 + A__13*B__123 + A__2*B + A__23*B__3 - A__3*B__23)*e_2 + (A*B__3 + A__1*B__13 - A__12*B__123 - A__123*B__12 - A__13*B__1 + A__2*B__23 - A__23*B__2 + A__3*B)*e_3 + (A*B__12 + A__1*B__2 + A__12*B + A__123*B__3 - A__13*B__23 - A__2*B__1 + A__23*B__13 + A__3*B__123)*e_1^e_2 + (A*B__13 + A__1*B__3 + A__12*B__23 - A__123*B__2 + A__13*B - A__2*B__123 - A__23*B__12 - A__3*B__1)*e_1^e_3 + (A*B__23 + A__1*B__123 - A__12*B__13 + A__123*B__1 + A__13*B__12 + A__2*B__3 + A__23*B - A__3*B__2)*e_2^e_3 + (A*B__123 + A__1*B__23 + A__12*B__3 + A__123*B - A__13*B__2 - A__2*B__13 + A__23*B__1 + A__3*B__12)*e_1^e_2^e_3"
      ]
     },
     "metadata": {},
     "output_type": "display_data"
    }
   ],
   "source": [
    "@time test_geometric_product(Cl3)"
   ]
  },
  {
   "cell_type": "code",
   "execution_count": 12,
   "metadata": {},
   "outputs": [
    {
     "name": "stdout",
     "output_type": "stream",
     "text": [
      "  0.696722 seconds (122 allocations: 3.531 KiB)\n"
     ]
    },
    {
     "data": {
      "text/latex": [
       "\\begin{align*}\\left ( A B + A^{1} B^{1} + A^{12} B^{12} - A^{123} B^{123} - A^{1234} B^{1234} - A^{124} B^{124} + A^{13} B^{13} - A^{134} B^{134} + A^{14} B^{14} - A^{2} B^{2} - A^{23} B^{23} + A^{234} B^{234} - A^{24} B^{24} - A^{3} B^{3} - A^{34} B^{34} - A^{4} B^{4}\\right )  + \\left ( A B^{1} + A^{1} B - A^{12} B^{2} - A^{123} B^{23} + A^{1234} B^{234} - A^{124} B^{24} - A^{13} B^{3} - A^{134} B^{34} - A^{14} B^{4} + A^{2} B^{12} - A^{23} B^{123} - A^{234} B^{1234} - A^{24} B^{124} + A^{3} B^{13} - A^{34} B^{134} + A^{4} B^{14}\\right ) \\boldsymbol{e}_{1} + \\left ( A B^{2} + A^{1} B^{12} - A^{12} B^{1} - A^{123} B^{13} + A^{1234} B^{134} - A^{124} B^{14} - A^{13} B^{123} - A^{134} B^{1234} - A^{14} B^{124} + A^{2} B - A^{23} B^{3} - A^{234} B^{34} - A^{24} B^{4} + A^{3} B^{23} - A^{34} B^{234} + A^{4} B^{24}\\right ) \\boldsymbol{e}_{2} + \\left ( A B^{3} + A^{1} B^{13} + A^{12} B^{123} + A^{123} B^{12} - A^{1234} B^{124} + A^{124} B^{1234} - A^{13} B^{1} - A^{134} B^{14} - A^{14} B^{134} - A^{2} B^{23} + A^{23} B^{2} + A^{234} B^{24} + A^{24} B^{234} + A^{3} B - A^{34} B^{4} + A^{4} B^{34}\\right ) \\boldsymbol{e}_{3} + \\left ( A B^{4} + A^{1} B^{14} + A^{12} B^{124} - A^{123} B^{1234} + A^{1234} B^{123} + A^{124} B^{12} + A^{13} B^{134} + A^{134} B^{13} - A^{14} B^{1} - A^{2} B^{24} - A^{23} B^{234} - A^{234} B^{23} + A^{24} B^{2} - A^{3} B^{34} + A^{34} B^{3} + A^{4} B\\right ) \\boldsymbol{e}_{4} + \\left ( A B^{12} + A^{1} B^{2} + A^{12} B - A^{123} B^{3} - A^{1234} B^{34} - A^{124} B^{4} + A^{13} B^{23} - A^{134} B^{234} + A^{14} B^{24} - A^{2} B^{1} - A^{23} B^{13} + A^{234} B^{134} - A^{24} B^{14} - A^{3} B^{123} - A^{34} B^{1234} - A^{4} B^{124}\\right ) \\boldsymbol{e}_{1}\\wedge \\boldsymbol{e}_{2} + \\left ( A B^{13} + A^{1} B^{3} - A^{12} B^{23} + A^{123} B^{2} + A^{1234} B^{24} + A^{124} B^{234} + A^{13} B - A^{134} B^{4} + A^{14} B^{34} + A^{2} B^{123} + A^{23} B^{12} - A^{234} B^{124} + A^{24} B^{1234} - A^{3} B^{1} - A^{34} B^{14} - A^{4} B^{134}\\right ) \\boldsymbol{e}_{1}\\wedge \\boldsymbol{e}_{3} + \\left ( A B^{14} + A^{1} B^{4} - A^{12} B^{24} - A^{123} B^{234} - A^{1234} B^{23} + A^{124} B^{2} - A^{13} B^{34} + A^{134} B^{3} + A^{14} B + A^{2} B^{124} - A^{23} B^{1234} + A^{234} B^{123} + A^{24} B^{12} + A^{3} B^{134} + A^{34} B^{13} - A^{4} B^{1}\\right ) \\boldsymbol{e}_{1}\\wedge \\boldsymbol{e}_{4} + \\left ( A B^{23} + A^{1} B^{123} - A^{12} B^{13} + A^{123} B^{1} + A^{1234} B^{14} + A^{124} B^{134} + A^{13} B^{12} - A^{134} B^{124} + A^{14} B^{1234} + A^{2} B^{3} + A^{23} B - A^{234} B^{4} + A^{24} B^{34} - A^{3} B^{2} - A^{34} B^{24} - A^{4} B^{234}\\right ) \\boldsymbol{e}_{2}\\wedge \\boldsymbol{e}_{3} + \\left ( A B^{24} + A^{1} B^{124} - A^{12} B^{14} - A^{123} B^{134} - A^{1234} B^{13} + A^{124} B^{1} - A^{13} B^{1234} + A^{134} B^{123} + A^{14} B^{12} + A^{2} B^{4} - A^{23} B^{34} + A^{234} B^{3} + A^{24} B + A^{3} B^{234} + A^{34} B^{23} - A^{4} B^{2}\\right ) \\boldsymbol{e}_{2}\\wedge \\boldsymbol{e}_{4} + \\left ( A B^{34} + A^{1} B^{134} + A^{12} B^{1234} + A^{123} B^{124} + A^{1234} B^{12} - A^{124} B^{123} - A^{13} B^{14} + A^{134} B^{1} + A^{14} B^{13} - A^{2} B^{234} + A^{23} B^{24} - A^{234} B^{2} - A^{24} B^{23} + A^{3} B^{4} + A^{34} B - A^{4} B^{3}\\right ) \\boldsymbol{e}_{3}\\wedge \\boldsymbol{e}_{4} + \\left ( A B^{123} + A^{1} B^{23} + A^{12} B^{3} + A^{123} B - A^{1234} B^{4} + A^{124} B^{34} - A^{13} B^{2} - A^{134} B^{24} - A^{14} B^{234} - A^{2} B^{13} + A^{23} B^{1} + A^{234} B^{14} + A^{24} B^{134} + A^{3} B^{12} - A^{34} B^{124} + A^{4} B^{1234}\\right ) \\boldsymbol{e}_{1}\\wedge \\boldsymbol{e}_{2}\\wedge \\boldsymbol{e}_{3} + \\left ( A B^{124} + A^{1} B^{24} + A^{12} B^{4} - A^{123} B^{34} + A^{1234} B^{3} + A^{124} B + A^{13} B^{234} + A^{134} B^{23} - A^{14} B^{2} - A^{2} B^{14} - A^{23} B^{134} - A^{234} B^{13} + A^{24} B^{1} - A^{3} B^{1234} + A^{34} B^{123} + A^{4} B^{12}\\right ) \\boldsymbol{e}_{1}\\wedge \\boldsymbol{e}_{2}\\wedge \\boldsymbol{e}_{4} + \\left ( A B^{134} + A^{1} B^{34} - A^{12} B^{234} + A^{123} B^{24} - A^{1234} B^{2} - A^{124} B^{23} + A^{13} B^{4} + A^{134} B - A^{14} B^{3} + A^{2} B^{1234} + A^{23} B^{124} + A^{234} B^{12} - A^{24} B^{123} - A^{3} B^{14} + A^{34} B^{1} + A^{4} B^{13}\\right ) \\boldsymbol{e}_{1}\\wedge \\boldsymbol{e}_{3}\\wedge \\boldsymbol{e}_{4} + \\left ( A B^{234} + A^{1} B^{1234} - A^{12} B^{134} + A^{123} B^{14} - A^{1234} B^{1} - A^{124} B^{13} + A^{13} B^{124} + A^{134} B^{12} - A^{14} B^{123} + A^{2} B^{34} + A^{23} B^{4} + A^{234} B - A^{24} B^{3} - A^{3} B^{24} + A^{34} B^{2} + A^{4} B^{23}\\right ) \\boldsymbol{e}_{2}\\wedge \\boldsymbol{e}_{3}\\wedge \\boldsymbol{e}_{4} + \\left ( A B^{1234} + A^{1} B^{234} + A^{12} B^{34} + A^{123} B^{4} + A^{1234} B - A^{124} B^{3} - A^{13} B^{24} + A^{134} B^{2} + A^{14} B^{23} - A^{2} B^{134} + A^{23} B^{14} - A^{234} B^{1} - A^{24} B^{13} + A^{3} B^{124} + A^{34} B^{12} - A^{4} B^{123}\\right ) \\boldsymbol{e}_{1}\\wedge \\boldsymbol{e}_{2}\\wedge \\boldsymbol{e}_{3}\\wedge \\boldsymbol{e}_{4}\\end{align*}"
      ],
      "text/plain": [
       "A*B + A__1*B__1 + A__12*B__12 - A__123*B__123 - A__1234*B__1234 - A__124*B__124 + A__13*B__13 - A__134*B__134 + A__14*B__14 - A__2*B__2 - A__23*B__23 + A__234*B__234 - A__24*B__24 - A__3*B__3 - A__34*B__34 - A__4*B__4 + (A*B__1 + A__1*B - A__12*B__2 - A__123*B__23 + A__1234*B__234 - A__124*B__24 - A__13*B__3 - A__134*B__34 - A__14*B__4 + A__2*B__12 - A__23*B__123 - A__234*B__1234 - A__24*B__124 + A__3*B__13 - A__34*B__134 + A__4*B__14)*e_1 + (A*B__2 + A__1*B__12 - A__12*B__1 - A__123*B__13 + A__1234*B__134 - A__124*B__14 - A__13*B__123 - A__134*B__1234 - A__14*B__124 + A__2*B - A__23*B__3 - A__234*B__34 - A__24*B__4 + A__3*B__23 - A__34*B__234 + A__4*B__24)*e_2 + (A*B__3 + A__1*B__13 + A__12*B__123 + A__123*B__12 - A__1234*B__124 + A__124*B__1234 - A__13*B__1 - A__134*B__14 - A__14*B__134 - A__2*B__23 + A__23*B__2 + A__234*B__24 + A__24*B__234 + A__3*B - A__34*B__4 + A__4*B__34)*e_3 + (A*B__4 + A__1*B__14 + A__12*B__124 - A__123*B__1234 + A__1234*B__123 + A__124*B__12 + A__13*B__134 + A__134*B__13 - A__14*B__1 - A__2*B__24 - A__23*B__234 - A__234*B__23 + A__24*B__2 - A__3*B__34 + A__34*B__3 + A__4*B)*e_4 + (A*B__12 + A__1*B__2 + A__12*B - A__123*B__3 - A__1234*B__34 - A__124*B__4 + A__13*B__23 - A__134*B__234 + A__14*B__24 - A__2*B__1 - A__23*B__13 + A__234*B__134 - A__24*B__14 - A__3*B__123 - A__34*B__1234 - A__4*B__124)*e_1^e_2 + (A*B__13 + A__1*B__3 - A__12*B__23 + A__123*B__2 + A__1234*B__24 + A__124*B__234 + A__13*B - A__134*B__4 + A__14*B__34 + A__2*B__123 + A__23*B__12 - A__234*B__124 + A__24*B__1234 - A__3*B__1 - A__34*B__14 - A__4*B__134)*e_1^e_3 + (A*B__14 + A__1*B__4 - A__12*B__24 - A__123*B__234 - A__1234*B__23 + A__124*B__2 - A__13*B__34 + A__134*B__3 + A__14*B + A__2*B__124 - A__23*B__1234 + A__234*B__123 + A__24*B__12 + A__3*B__134 + A__34*B__13 - A__4*B__1)*e_1^e_4 + (A*B__23 + A__1*B__123 - A__12*B__13 + A__123*B__1 + A__1234*B__14 + A__124*B__134 + A__13*B__12 - A__134*B__124 + A__14*B__1234 + A__2*B__3 + A__23*B - A__234*B__4 + A__24*B__34 - A__3*B__2 - A__34*B__24 - A__4*B__234)*e_2^e_3 + (A*B__24 + A__1*B__124 - A__12*B__14 - A__123*B__134 - A__1234*B__13 + A__124*B__1 - A__13*B__1234 + A__134*B__123 + A__14*B__12 + A__2*B__4 - A__23*B__34 + A__234*B__3 + A__24*B + A__3*B__234 + A__34*B__23 - A__4*B__2)*e_2^e_4 + (A*B__34 + A__1*B__134 + A__12*B__1234 + A__123*B__124 + A__1234*B__12 - A__124*B__123 - A__13*B__14 + A__134*B__1 + A__14*B__13 - A__2*B__234 + A__23*B__24 - A__234*B__2 - A__24*B__23 + A__3*B__4 + A__34*B - A__4*B__3)*e_3^e_4 + (A*B__123 + A__1*B__23 + A__12*B__3 + A__123*B - A__1234*B__4 + A__124*B__34 - A__13*B__2 - A__134*B__24 - A__14*B__234 - A__2*B__13 + A__23*B__1 + A__234*B__14 + A__24*B__134 + A__3*B__12 - A__34*B__124 + A__4*B__1234)*e_1^e_2^e_3 + (A*B__124 + A__1*B__24 + A__12*B__4 - A__123*B__34 + A__1234*B__3 + A__124*B + A__13*B__234 + A__134*B__23 - A__14*B__2 - A__2*B__14 - A__23*B__134 - A__234*B__13 + A__24*B__1 - A__3*B__1234 + A__34*B__123 + A__4*B__12)*e_1^e_2^e_4 + (A*B__134 + A__1*B__34 - A__12*B__234 + A__123*B__24 - A__1234*B__2 - A__124*B__23 + A__13*B__4 + A__134*B - A__14*B__3 + A__2*B__1234 + A__23*B__124 + A__234*B__12 - A__24*B__123 - A__3*B__14 + A__34*B__1 + A__4*B__13)*e_1^e_3^e_4 + (A*B__234 + A__1*B__1234 - A__12*B__134 + A__123*B__14 - A__1234*B__1 - A__124*B__13 + A__13*B__124 + A__134*B__12 - A__14*B__123 + A__2*B__34 + A__23*B__4 + A__234*B - A__24*B__3 - A__3*B__24 + A__34*B__2 + A__4*B__23)*e_2^e_3^e_4 + (A*B__1234 + A__1*B__234 + A__12*B__34 + A__123*B__4 + A__1234*B - A__124*B__3 - A__13*B__24 + A__134*B__2 + A__14*B__23 - A__2*B__134 + A__23*B__14 - A__234*B__1 - A__24*B__13 + A__3*B__124 + A__34*B__12 - A__4*B__123)*e_1^e_2^e_3^e_4"
      ]
     },
     "metadata": {},
     "output_type": "display_data"
    }
   ],
   "source": [
    "@time test_geometric_product(Spacetime)"
   ]
  },
  {
   "cell_type": "code",
   "execution_count": 14,
   "metadata": {},
   "outputs": [
    {
     "name": "stdout",
     "output_type": "stream",
     "text": [
      "  0.003912 seconds (122 allocations: 3.531 KiB)\n"
     ]
    },
    {
     "data": {
      "text/latex": [
       "\\begin{align*}\\left ( A B + A^{1} B^{1} - A^{12} B^{12} + A^{2} B^{2}\\right )  + \\left ( A B^{1} + A^{1} B + A^{12} B^{2} - A^{2} B^{12}\\right ) \\boldsymbol{e}_{1} + \\left ( A B^{2} + A^{1} B^{12} - A^{12} B^{1} + A^{2} B\\right ) \\boldsymbol{e}_{2} + \\left ( A B^{3} + A^{1} B^{13} - A^{12} B^{123} - A^{123} B^{12} - A^{13} B^{1} + A^{2} B^{23} - A^{23} B^{2} + A^{3} B\\right ) \\boldsymbol{e}_{3} + \\left ( A B^{12} + A^{1} B^{2} + A^{12} B - A^{2} B^{1}\\right ) \\boldsymbol{e}_{1}\\wedge \\boldsymbol{e}_{2} + \\left ( A B^{13} + A^{1} B^{3} + A^{12} B^{23} - A^{123} B^{2} + A^{13} B - A^{2} B^{123} - A^{23} B^{12} - A^{3} B^{1}\\right ) \\boldsymbol{e}_{1}\\wedge \\boldsymbol{e}_{3} + \\left ( A B^{23} + A^{1} B^{123} - A^{12} B^{13} + A^{123} B^{1} + A^{13} B^{12} + A^{2} B^{3} + A^{23} B - A^{3} B^{2}\\right ) \\boldsymbol{e}_{2}\\wedge \\boldsymbol{e}_{3} + \\left ( A B^{123} + A^{1} B^{23} + A^{12} B^{3} + A^{123} B - A^{13} B^{2} - A^{2} B^{13} + A^{23} B^{1} + A^{3} B^{12}\\right ) \\boldsymbol{e}_{1}\\wedge \\boldsymbol{e}_{2}\\wedge \\boldsymbol{e}_{3}\\end{align*}"
      ],
      "text/plain": [
       "A*B + A__1*B__1 - A__12*B__12 + A__2*B__2 + (A*B__1 + A__1*B + A__12*B__2 - A__2*B__12)*e_1 + (A*B__2 + A__1*B__12 - A__12*B__1 + A__2*B)*e_2 + (A*B__3 + A__1*B__13 - A__12*B__123 - A__123*B__12 - A__13*B__1 + A__2*B__23 - A__23*B__2 + A__3*B)*e_3 + (A*B__12 + A__1*B__2 + A__12*B - A__2*B__1)*e_1^e_2 + (A*B__13 + A__1*B__3 + A__12*B__23 - A__123*B__2 + A__13*B - A__2*B__123 - A__23*B__12 - A__3*B__1)*e_1^e_3 + (A*B__23 + A__1*B__123 - A__12*B__13 + A__123*B__1 + A__13*B__12 + A__2*B__3 + A__23*B - A__3*B__2)*e_2^e_3 + (A*B__123 + A__1*B__23 + A__12*B__3 + A__123*B - A__13*B__2 - A__2*B__13 + A__23*B__1 + A__3*B__12)*e_1^e_2^e_3"
      ]
     },
     "metadata": {},
     "output_type": "display_data"
    }
   ],
   "source": [
    "@time test_geometric_product(PGA2D)"
   ]
  },
  {
   "cell_type": "code",
   "execution_count": 15,
   "metadata": {},
   "outputs": [
    {
     "name": "stdout",
     "output_type": "stream",
     "text": [
      "  0.398951 seconds (122 allocations: 3.531 KiB)\n"
     ]
    },
    {
     "data": {
      "text/latex": [
       "\\begin{align*}\\left ( A B + A^{1} B^{1} - A^{12} B^{12} - A^{123} B^{123} - A^{13} B^{13} + A^{2} B^{2} - A^{23} B^{23} + A^{3} B^{3}\\right )  + \\left ( A B^{1} + A^{1} B + A^{12} B^{2} - A^{123} B^{23} + A^{13} B^{3} - A^{2} B^{12} - A^{23} B^{123} - A^{3} B^{13}\\right ) \\boldsymbol{e}_{1} + \\left ( A B^{2} + A^{1} B^{12} - A^{12} B^{1} + A^{123} B^{13} + A^{13} B^{123} + A^{2} B + A^{23} B^{3} - A^{3} B^{23}\\right ) \\boldsymbol{e}_{2} + \\left ( A B^{3} + A^{1} B^{13} - A^{12} B^{123} - A^{123} B^{12} - A^{13} B^{1} + A^{2} B^{23} - A^{23} B^{2} + A^{3} B\\right ) \\boldsymbol{e}_{3} + \\left ( A B^{4} + A^{1} B^{14} - A^{12} B^{124} - A^{123} B^{1234} + A^{1234} B^{123} - A^{124} B^{12} - A^{13} B^{134} - A^{134} B^{13} - A^{14} B^{1} + A^{2} B^{24} - A^{23} B^{234} - A^{234} B^{23} - A^{24} B^{2} + A^{3} B^{34} - A^{34} B^{3} + A^{4} B\\right ) \\boldsymbol{e}_{4} + \\left ( A B^{12} + A^{1} B^{2} + A^{12} B + A^{123} B^{3} - A^{13} B^{23} - A^{2} B^{1} + A^{23} B^{13} + A^{3} B^{123}\\right ) \\boldsymbol{e}_{1}\\wedge \\boldsymbol{e}_{2} + \\left ( A B^{13} + A^{1} B^{3} + A^{12} B^{23} - A^{123} B^{2} + A^{13} B - A^{2} B^{123} - A^{23} B^{12} - A^{3} B^{1}\\right ) \\boldsymbol{e}_{1}\\wedge \\boldsymbol{e}_{3} + \\left ( A B^{14} + A^{1} B^{4} + A^{12} B^{24} - A^{123} B^{234} - A^{1234} B^{23} - A^{124} B^{2} + A^{13} B^{34} - A^{134} B^{3} + A^{14} B - A^{2} B^{124} - A^{23} B^{1234} + A^{234} B^{123} - A^{24} B^{12} - A^{3} B^{134} - A^{34} B^{13} - A^{4} B^{1}\\right ) \\boldsymbol{e}_{1}\\wedge \\boldsymbol{e}_{4} + \\left ( A B^{23} + A^{1} B^{123} - A^{12} B^{13} + A^{123} B^{1} + A^{13} B^{12} + A^{2} B^{3} + A^{23} B - A^{3} B^{2}\\right ) \\boldsymbol{e}_{2}\\wedge \\boldsymbol{e}_{3} + \\left ( A B^{24} + A^{1} B^{124} - A^{12} B^{14} + A^{123} B^{134} + A^{1234} B^{13} + A^{124} B^{1} + A^{13} B^{1234} - A^{134} B^{123} + A^{14} B^{12} + A^{2} B^{4} + A^{23} B^{34} - A^{234} B^{3} + A^{24} B - A^{3} B^{234} - A^{34} B^{23} - A^{4} B^{2}\\right ) \\boldsymbol{e}_{2}\\wedge \\boldsymbol{e}_{4} + \\left ( A B^{34} + A^{1} B^{134} - A^{12} B^{1234} - A^{123} B^{124} - A^{1234} B^{12} + A^{124} B^{123} - A^{13} B^{14} + A^{134} B^{1} + A^{14} B^{13} + A^{2} B^{234} - A^{23} B^{24} + A^{234} B^{2} + A^{24} B^{23} + A^{3} B^{4} + A^{34} B - A^{4} B^{3}\\right ) \\boldsymbol{e}_{3}\\wedge \\boldsymbol{e}_{4} + \\left ( A B^{123} + A^{1} B^{23} + A^{12} B^{3} + A^{123} B - A^{13} B^{2} - A^{2} B^{13} + A^{23} B^{1} + A^{3} B^{12}\\right ) \\boldsymbol{e}_{1}\\wedge \\boldsymbol{e}_{2}\\wedge \\boldsymbol{e}_{3} + \\left ( A B^{124} + A^{1} B^{24} + A^{12} B^{4} + A^{123} B^{34} - A^{1234} B^{3} + A^{124} B - A^{13} B^{234} - A^{134} B^{23} - A^{14} B^{2} - A^{2} B^{14} + A^{23} B^{134} + A^{234} B^{13} + A^{24} B^{1} + A^{3} B^{1234} - A^{34} B^{123} + A^{4} B^{12}\\right ) \\boldsymbol{e}_{1}\\wedge \\boldsymbol{e}_{2}\\wedge \\boldsymbol{e}_{4} + \\left ( A B^{134} + A^{1} B^{34} + A^{12} B^{234} - A^{123} B^{24} + A^{1234} B^{2} + A^{124} B^{23} + A^{13} B^{4} + A^{134} B - A^{14} B^{3} - A^{2} B^{1234} - A^{23} B^{124} - A^{234} B^{12} + A^{24} B^{123} - A^{3} B^{14} + A^{34} B^{1} + A^{4} B^{13}\\right ) \\boldsymbol{e}_{1}\\wedge \\boldsymbol{e}_{3}\\wedge \\boldsymbol{e}_{4} + \\left ( A B^{234} + A^{1} B^{1234} - A^{12} B^{134} + A^{123} B^{14} - A^{1234} B^{1} - A^{124} B^{13} + A^{13} B^{124} + A^{134} B^{12} - A^{14} B^{123} + A^{2} B^{34} + A^{23} B^{4} + A^{234} B - A^{24} B^{3} - A^{3} B^{24} + A^{34} B^{2} + A^{4} B^{23}\\right ) \\boldsymbol{e}_{2}\\wedge \\boldsymbol{e}_{3}\\wedge \\boldsymbol{e}_{4} + \\left ( A B^{1234} + A^{1} B^{234} + A^{12} B^{34} + A^{123} B^{4} + A^{1234} B - A^{124} B^{3} - A^{13} B^{24} + A^{134} B^{2} + A^{14} B^{23} - A^{2} B^{134} + A^{23} B^{14} - A^{234} B^{1} - A^{24} B^{13} + A^{3} B^{124} + A^{34} B^{12} - A^{4} B^{123}\\right ) \\boldsymbol{e}_{1}\\wedge \\boldsymbol{e}_{2}\\wedge \\boldsymbol{e}_{3}\\wedge \\boldsymbol{e}_{4}\\end{align*}"
      ],
      "text/plain": [
       "A*B + A__1*B__1 - A__12*B__12 - A__123*B__123 - A__13*B__13 + A__2*B__2 - A__23*B__23 + A__3*B__3 + (A*B__1 + A__1*B + A__12*B__2 - A__123*B__23 + A__13*B__3 - A__2*B__12 - A__23*B__123 - A__3*B__13)*e_1 + (A*B__2 + A__1*B__12 - A__12*B__1 + A__123*B__13 + A__13*B__123 + A__2*B + A__23*B__3 - A__3*B__23)*e_2 + (A*B__3 + A__1*B__13 - A__12*B__123 - A__123*B__12 - A__13*B__1 + A__2*B__23 - A__23*B__2 + A__3*B)*e_3 + (A*B__4 + A__1*B__14 - A__12*B__124 - A__123*B__1234 + A__1234*B__123 - A__124*B__12 - A__13*B__134 - A__134*B__13 - A__14*B__1 + A__2*B__24 - A__23*B__234 - A__234*B__23 - A__24*B__2 + A__3*B__34 - A__34*B__3 + A__4*B)*e_4 + (A*B__12 + A__1*B__2 + A__12*B + A__123*B__3 - A__13*B__23 - A__2*B__1 + A__23*B__13 + A__3*B__123)*e_1^e_2 + (A*B__13 + A__1*B__3 + A__12*B__23 - A__123*B__2 + A__13*B - A__2*B__123 - A__23*B__12 - A__3*B__1)*e_1^e_3 + (A*B__14 + A__1*B__4 + A__12*B__24 - A__123*B__234 - A__1234*B__23 - A__124*B__2 + A__13*B__34 - A__134*B__3 + A__14*B - A__2*B__124 - A__23*B__1234 + A__234*B__123 - A__24*B__12 - A__3*B__134 - A__34*B__13 - A__4*B__1)*e_1^e_4 + (A*B__23 + A__1*B__123 - A__12*B__13 + A__123*B__1 + A__13*B__12 + A__2*B__3 + A__23*B - A__3*B__2)*e_2^e_3 + (A*B__24 + A__1*B__124 - A__12*B__14 + A__123*B__134 + A__1234*B__13 + A__124*B__1 + A__13*B__1234 - A__134*B__123 + A__14*B__12 + A__2*B__4 + A__23*B__34 - A__234*B__3 + A__24*B - A__3*B__234 - A__34*B__23 - A__4*B__2)*e_2^e_4 + (A*B__34 + A__1*B__134 - A__12*B__1234 - A__123*B__124 - A__1234*B__12 + A__124*B__123 - A__13*B__14 + A__134*B__1 + A__14*B__13 + A__2*B__234 - A__23*B__24 + A__234*B__2 + A__24*B__23 + A__3*B__4 + A__34*B - A__4*B__3)*e_3^e_4 + (A*B__123 + A__1*B__23 + A__12*B__3 + A__123*B - A__13*B__2 - A__2*B__13 + A__23*B__1 + A__3*B__12)*e_1^e_2^e_3 + (A*B__124 + A__1*B__24 + A__12*B__4 + A__123*B__34 - A__1234*B__3 + A__124*B - A__13*B__234 - A__134*B__23 - A__14*B__2 - A__2*B__14 + A__23*B__134 + A__234*B__13 + A__24*B__1 + A__3*B__1234 - A__34*B__123 + A__4*B__12)*e_1^e_2^e_4 + (A*B__134 + A__1*B__34 + A__12*B__234 - A__123*B__24 + A__1234*B__2 + A__124*B__23 + A__13*B__4 + A__134*B - A__14*B__3 - A__2*B__1234 - A__23*B__124 - A__234*B__12 + A__24*B__123 - A__3*B__14 + A__34*B__1 + A__4*B__13)*e_1^e_3^e_4 + (A*B__234 + A__1*B__1234 - A__12*B__134 + A__123*B__14 - A__1234*B__1 - A__124*B__13 + A__13*B__124 + A__134*B__12 - A__14*B__123 + A__2*B__34 + A__23*B__4 + A__234*B - A__24*B__3 - A__3*B__24 + A__34*B__2 + A__4*B__23)*e_2^e_3^e_4 + (A*B__1234 + A__1*B__234 + A__12*B__34 + A__123*B__4 + A__1234*B - A__124*B__3 - A__13*B__24 + A__134*B__2 + A__14*B__23 - A__2*B__134 + A__23*B__14 - A__234*B__1 - A__24*B__13 + A__3*B__124 + A__34*B__12 - A__4*B__123)*e_1^e_2^e_3^e_4"
      ]
     },
     "metadata": {},
     "output_type": "display_data"
    }
   ],
   "source": [
    "@time test_geometric_product(PGA3D)"
   ]
  },
  {
   "cell_type": "code",
   "execution_count": 16,
   "metadata": {},
   "outputs": [
    {
     "name": "stdout",
     "output_type": "stream",
     "text": [
      "  0.695005 seconds (122 allocations: 3.531 KiB)\n"
     ]
    },
    {
     "data": {
      "text/latex": [
       "\\begin{align*}\\left ( A B + A^{1} B^{1} - A^{12} B^{12} - A^{123} B^{123} - A^{1234} B^{1234} + A^{124} B^{124} - A^{13} B^{13} + A^{134} B^{134} + A^{14} B^{14} + A^{2} B^{2} - A^{23} B^{23} + A^{234} B^{234} + A^{24} B^{24} + A^{3} B^{3} + A^{34} B^{34} - A^{4} B^{4}\\right )  + \\left ( A B^{1} + A^{1} B + A^{12} B^{2} - A^{123} B^{23} + A^{1234} B^{234} + A^{124} B^{24} + A^{13} B^{3} + A^{134} B^{34} - A^{14} B^{4} - A^{2} B^{12} - A^{23} B^{123} - A^{234} B^{1234} + A^{24} B^{124} - A^{3} B^{13} + A^{34} B^{134} + A^{4} B^{14}\\right ) \\boldsymbol{e}_{1} + \\left ( A B^{2} + A^{1} B^{12} - A^{12} B^{1} + A^{123} B^{13} - A^{1234} B^{134} - A^{124} B^{14} + A^{13} B^{123} + A^{134} B^{1234} - A^{14} B^{124} + A^{2} B + A^{23} B^{3} + A^{234} B^{34} - A^{24} B^{4} - A^{3} B^{23} + A^{34} B^{234} + A^{4} B^{24}\\right ) \\boldsymbol{e}_{2} + \\left ( A B^{3} + A^{1} B^{13} - A^{12} B^{123} - A^{123} B^{12} + A^{1234} B^{124} - A^{124} B^{1234} - A^{13} B^{1} - A^{134} B^{14} - A^{14} B^{134} + A^{2} B^{23} - A^{23} B^{2} - A^{234} B^{24} - A^{24} B^{234} + A^{3} B - A^{34} B^{4} + A^{4} B^{34}\\right ) \\boldsymbol{e}_{3} + \\left ( A B^{4} + A^{1} B^{14} - A^{12} B^{124} - A^{123} B^{1234} + A^{1234} B^{123} - A^{124} B^{12} - A^{13} B^{134} - A^{134} B^{13} - A^{14} B^{1} + A^{2} B^{24} - A^{23} B^{234} - A^{234} B^{23} - A^{24} B^{2} + A^{3} B^{34} - A^{34} B^{3} + A^{4} B\\right ) \\boldsymbol{e}_{4} + \\left ( A B^{12} + A^{1} B^{2} + A^{12} B + A^{123} B^{3} + A^{1234} B^{34} - A^{124} B^{4} - A^{13} B^{23} + A^{134} B^{234} + A^{14} B^{24} - A^{2} B^{1} + A^{23} B^{13} - A^{234} B^{134} - A^{24} B^{14} + A^{3} B^{123} + A^{34} B^{1234} - A^{4} B^{124}\\right ) \\boldsymbol{e}_{1}\\wedge \\boldsymbol{e}_{2} + \\left ( A B^{13} + A^{1} B^{3} + A^{12} B^{23} - A^{123} B^{2} - A^{1234} B^{24} - A^{124} B^{234} + A^{13} B - A^{134} B^{4} + A^{14} B^{34} - A^{2} B^{123} - A^{23} B^{12} + A^{234} B^{124} - A^{24} B^{1234} - A^{3} B^{1} - A^{34} B^{14} - A^{4} B^{134}\\right ) \\boldsymbol{e}_{1}\\wedge \\boldsymbol{e}_{3} + \\left ( A B^{14} + A^{1} B^{4} + A^{12} B^{24} - A^{123} B^{234} - A^{1234} B^{23} - A^{124} B^{2} + A^{13} B^{34} - A^{134} B^{3} + A^{14} B - A^{2} B^{124} - A^{23} B^{1234} + A^{234} B^{123} - A^{24} B^{12} - A^{3} B^{134} - A^{34} B^{13} - A^{4} B^{1}\\right ) \\boldsymbol{e}_{1}\\wedge \\boldsymbol{e}_{4} + \\left ( A B^{23} + A^{1} B^{123} - A^{12} B^{13} + A^{123} B^{1} + A^{1234} B^{14} + A^{124} B^{134} + A^{13} B^{12} - A^{134} B^{124} + A^{14} B^{1234} + A^{2} B^{3} + A^{23} B - A^{234} B^{4} + A^{24} B^{34} - A^{3} B^{2} - A^{34} B^{24} - A^{4} B^{234}\\right ) \\boldsymbol{e}_{2}\\wedge \\boldsymbol{e}_{3} + \\left ( A B^{24} + A^{1} B^{124} - A^{12} B^{14} + A^{123} B^{134} + A^{1234} B^{13} + A^{124} B^{1} + A^{13} B^{1234} - A^{134} B^{123} + A^{14} B^{12} + A^{2} B^{4} + A^{23} B^{34} - A^{234} B^{3} + A^{24} B - A^{3} B^{234} - A^{34} B^{23} - A^{4} B^{2}\\right ) \\boldsymbol{e}_{2}\\wedge \\boldsymbol{e}_{4} + \\left ( A B^{34} + A^{1} B^{134} - A^{12} B^{1234} - A^{123} B^{124} - A^{1234} B^{12} + A^{124} B^{123} - A^{13} B^{14} + A^{134} B^{1} + A^{14} B^{13} + A^{2} B^{234} - A^{23} B^{24} + A^{234} B^{2} + A^{24} B^{23} + A^{3} B^{4} + A^{34} B - A^{4} B^{3}\\right ) \\boldsymbol{e}_{3}\\wedge \\boldsymbol{e}_{4} + \\left ( A B^{123} + A^{1} B^{23} + A^{12} B^{3} + A^{123} B - A^{1234} B^{4} + A^{124} B^{34} - A^{13} B^{2} - A^{134} B^{24} - A^{14} B^{234} - A^{2} B^{13} + A^{23} B^{1} + A^{234} B^{14} + A^{24} B^{134} + A^{3} B^{12} - A^{34} B^{124} + A^{4} B^{1234}\\right ) \\boldsymbol{e}_{1}\\wedge \\boldsymbol{e}_{2}\\wedge \\boldsymbol{e}_{3} + \\left ( A B^{124} + A^{1} B^{24} + A^{12} B^{4} + A^{123} B^{34} - A^{1234} B^{3} + A^{124} B - A^{13} B^{234} - A^{134} B^{23} - A^{14} B^{2} - A^{2} B^{14} + A^{23} B^{134} + A^{234} B^{13} + A^{24} B^{1} + A^{3} B^{1234} - A^{34} B^{123} + A^{4} B^{12}\\right ) \\boldsymbol{e}_{1}\\wedge \\boldsymbol{e}_{2}\\wedge \\boldsymbol{e}_{4} + \\left ( A B^{134} + A^{1} B^{34} + A^{12} B^{234} - A^{123} B^{24} + A^{1234} B^{2} + A^{124} B^{23} + A^{13} B^{4} + A^{134} B - A^{14} B^{3} - A^{2} B^{1234} - A^{23} B^{124} - A^{234} B^{12} + A^{24} B^{123} - A^{3} B^{14} + A^{34} B^{1} + A^{4} B^{13}\\right ) \\boldsymbol{e}_{1}\\wedge \\boldsymbol{e}_{3}\\wedge \\boldsymbol{e}_{4} + \\left ( A B^{234} + A^{1} B^{1234} - A^{12} B^{134} + A^{123} B^{14} - A^{1234} B^{1} - A^{124} B^{13} + A^{13} B^{124} + A^{134} B^{12} - A^{14} B^{123} + A^{2} B^{34} + A^{23} B^{4} + A^{234} B - A^{24} B^{3} - A^{3} B^{24} + A^{34} B^{2} + A^{4} B^{23}\\right ) \\boldsymbol{e}_{2}\\wedge \\boldsymbol{e}_{3}\\wedge \\boldsymbol{e}_{4} + \\left ( A B^{1234} + A^{1} B^{234} + A^{12} B^{34} + A^{123} B^{4} + A^{1234} B - A^{124} B^{3} - A^{13} B^{24} + A^{134} B^{2} + A^{14} B^{23} - A^{2} B^{134} + A^{23} B^{14} - A^{234} B^{1} - A^{24} B^{13} + A^{3} B^{124} + A^{34} B^{12} - A^{4} B^{123}\\right ) \\boldsymbol{e}_{1}\\wedge \\boldsymbol{e}_{2}\\wedge \\boldsymbol{e}_{3}\\wedge \\boldsymbol{e}_{4}\\end{align*}"
      ],
      "text/plain": [
       "A*B + A__1*B__1 - A__12*B__12 - A__123*B__123 - A__1234*B__1234 + A__124*B__124 - A__13*B__13 + A__134*B__134 + A__14*B__14 + A__2*B__2 - A__23*B__23 + A__234*B__234 + A__24*B__24 + A__3*B__3 + A__34*B__34 - A__4*B__4 + (A*B__1 + A__1*B + A__12*B__2 - A__123*B__23 + A__1234*B__234 + A__124*B__24 + A__13*B__3 + A__134*B__34 - A__14*B__4 - A__2*B__12 - A__23*B__123 - A__234*B__1234 + A__24*B__124 - A__3*B__13 + A__34*B__134 + A__4*B__14)*e_1 + (A*B__2 + A__1*B__12 - A__12*B__1 + A__123*B__13 - A__1234*B__134 - A__124*B__14 + A__13*B__123 + A__134*B__1234 - A__14*B__124 + A__2*B + A__23*B__3 + A__234*B__34 - A__24*B__4 - A__3*B__23 + A__34*B__234 + A__4*B__24)*e_2 + (A*B__3 + A__1*B__13 - A__12*B__123 - A__123*B__12 + A__1234*B__124 - A__124*B__1234 - A__13*B__1 - A__134*B__14 - A__14*B__134 + A__2*B__23 - A__23*B__2 - A__234*B__24 - A__24*B__234 + A__3*B - A__34*B__4 + A__4*B__34)*e_3 + (A*B__4 + A__1*B__14 - A__12*B__124 - A__123*B__1234 + A__1234*B__123 - A__124*B__12 - A__13*B__134 - A__134*B__13 - A__14*B__1 + A__2*B__24 - A__23*B__234 - A__234*B__23 - A__24*B__2 + A__3*B__34 - A__34*B__3 + A__4*B)*e_4 + (A*B__12 + A__1*B__2 + A__12*B + A__123*B__3 + A__1234*B__34 - A__124*B__4 - A__13*B__23 + A__134*B__234 + A__14*B__24 - A__2*B__1 + A__23*B__13 - A__234*B__134 - A__24*B__14 + A__3*B__123 + A__34*B__1234 - A__4*B__124)*e_1^e_2 + (A*B__13 + A__1*B__3 + A__12*B__23 - A__123*B__2 - A__1234*B__24 - A__124*B__234 + A__13*B - A__134*B__4 + A__14*B__34 - A__2*B__123 - A__23*B__12 + A__234*B__124 - A__24*B__1234 - A__3*B__1 - A__34*B__14 - A__4*B__134)*e_1^e_3 + (A*B__14 + A__1*B__4 + A__12*B__24 - A__123*B__234 - A__1234*B__23 - A__124*B__2 + A__13*B__34 - A__134*B__3 + A__14*B - A__2*B__124 - A__23*B__1234 + A__234*B__123 - A__24*B__12 - A__3*B__134 - A__34*B__13 - A__4*B__1)*e_1^e_4 + (A*B__23 + A__1*B__123 - A__12*B__13 + A__123*B__1 + A__1234*B__14 + A__124*B__134 + A__13*B__12 - A__134*B__124 + A__14*B__1234 + A__2*B__3 + A__23*B - A__234*B__4 + A__24*B__34 - A__3*B__2 - A__34*B__24 - A__4*B__234)*e_2^e_3 + (A*B__24 + A__1*B__124 - A__12*B__14 + A__123*B__134 + A__1234*B__13 + A__124*B__1 + A__13*B__1234 - A__134*B__123 + A__14*B__12 + A__2*B__4 + A__23*B__34 - A__234*B__3 + A__24*B - A__3*B__234 - A__34*B__23 - A__4*B__2)*e_2^e_4 + (A*B__34 + A__1*B__134 - A__12*B__1234 - A__123*B__124 - A__1234*B__12 + A__124*B__123 - A__13*B__14 + A__134*B__1 + A__14*B__13 + A__2*B__234 - A__23*B__24 + A__234*B__2 + A__24*B__23 + A__3*B__4 + A__34*B - A__4*B__3)*e_3^e_4 + (A*B__123 + A__1*B__23 + A__12*B__3 + A__123*B - A__1234*B__4 + A__124*B__34 - A__13*B__2 - A__134*B__24 - A__14*B__234 - A__2*B__13 + A__23*B__1 + A__234*B__14 + A__24*B__134 + A__3*B__12 - A__34*B__124 + A__4*B__1234)*e_1^e_2^e_3 + (A*B__124 + A__1*B__24 + A__12*B__4 + A__123*B__34 - A__1234*B__3 + A__124*B - A__13*B__234 - A__134*B__23 - A__14*B__2 - A__2*B__14 + A__23*B__134 + A__234*B__13 + A__24*B__1 + A__3*B__1234 - A__34*B__123 + A__4*B__12)*e_1^e_2^e_4 + (A*B__134 + A__1*B__34 + A__12*B__234 - A__123*B__24 + A__1234*B__2 + A__124*B__23 + A__13*B__4 + A__134*B - A__14*B__3 - A__2*B__1234 - A__23*B__124 - A__234*B__12 + A__24*B__123 - A__3*B__14 + A__34*B__1 + A__4*B__13)*e_1^e_3^e_4 + (A*B__234 + A__1*B__1234 - A__12*B__134 + A__123*B__14 - A__1234*B__1 - A__124*B__13 + A__13*B__124 + A__134*B__12 - A__14*B__123 + A__2*B__34 + A__23*B__4 + A__234*B - A__24*B__3 - A__3*B__24 + A__34*B__2 + A__4*B__23)*e_2^e_3^e_4 + (A*B__1234 + A__1*B__234 + A__12*B__34 + A__123*B__4 + A__1234*B - A__124*B__3 - A__13*B__24 + A__134*B__2 + A__14*B__23 - A__2*B__134 + A__23*B__14 - A__234*B__1 - A__24*B__13 + A__3*B__124 + A__34*B__12 - A__4*B__123)*e_1^e_2^e_3^e_4"
      ]
     },
     "metadata": {},
     "output_type": "display_data"
    }
   ],
   "source": [
    "@time test_geometric_product(CGA2D)"
   ]
  },
  {
   "cell_type": "code",
   "execution_count": 24,
   "metadata": {
    "scrolled": false
   },
   "outputs": [
    {
     "name": "stdout",
     "output_type": "stream",
     "text": [
      "  7.583876 seconds (122 allocations: 3.531 KiB)\n"
     ]
    },
    {
     "data": {
      "text/latex": [
       "\\begin{align*}\\left ( A B + A^{1} B^{1} - A^{12} B^{12} - A^{123} B^{123} + A^{1234} B^{1234} - A^{12345} B^{12345} - A^{1235} B^{1235} - A^{124} B^{124} - A^{1245} B^{1245} + A^{125} B^{125} - A^{13} B^{13} - A^{134} B^{134} - A^{1345} B^{1345} + A^{135} B^{135} - A^{14} B^{14} + A^{145} B^{145} + A^{15} B^{15} + A^{2} B^{2} - A^{23} B^{23} - A^{234} B^{234} - A^{2345} B^{2345} + A^{235} B^{235} - A^{24} B^{24} + A^{245} B^{245} + A^{25} B^{25} + A^{3} B^{3} - A^{34} B^{34} + A^{345} B^{345} + A^{35} B^{35} + A^{4} B^{4} + A^{45} B^{45} - A^{5} B^{5}\\right )  + \\left ( A B^{1} + A^{1} B + A^{12} B^{2} - A^{123} B^{23} - A^{1234} B^{234} - A^{12345} B^{2345} + A^{1235} B^{235} - A^{124} B^{24} + A^{1245} B^{245} + A^{125} B^{25} + A^{13} B^{3} - A^{134} B^{34} + A^{1345} B^{345} + A^{135} B^{35} + A^{14} B^{4} + A^{145} B^{45} - A^{15} B^{5} - A^{2} B^{12} - A^{23} B^{123} + A^{234} B^{1234} - A^{2345} B^{12345} - A^{235} B^{1235} - A^{24} B^{124} - A^{245} B^{1245} + A^{25} B^{125} - A^{3} B^{13} - A^{34} B^{134} - A^{345} B^{1345} + A^{35} B^{135} - A^{4} B^{14} + A^{45} B^{145} + A^{5} B^{15}\\right ) \\boldsymbol{e}_{1} + \\left ( A B^{2} + A^{1} B^{12} - A^{12} B^{1} + A^{123} B^{13} + A^{1234} B^{134} + A^{12345} B^{1345} - A^{1235} B^{135} + A^{124} B^{14} - A^{1245} B^{145} - A^{125} B^{15} + A^{13} B^{123} - A^{134} B^{1234} + A^{1345} B^{12345} + A^{135} B^{1235} + A^{14} B^{124} + A^{145} B^{1245} - A^{15} B^{125} + A^{2} B + A^{23} B^{3} - A^{234} B^{34} + A^{2345} B^{345} + A^{235} B^{35} + A^{24} B^{4} + A^{245} B^{45} - A^{25} B^{5} - A^{3} B^{23} - A^{34} B^{234} - A^{345} B^{2345} + A^{35} B^{235} - A^{4} B^{24} + A^{45} B^{245} + A^{5} B^{25}\\right ) \\boldsymbol{e}_{2} + \\left ( A B^{3} + A^{1} B^{13} - A^{12} B^{123} - A^{123} B^{12} - A^{1234} B^{124} - A^{12345} B^{1245} + A^{1235} B^{125} + A^{124} B^{1234} - A^{1245} B^{12345} - A^{125} B^{1235} - A^{13} B^{1} + A^{134} B^{14} - A^{1345} B^{145} - A^{135} B^{15} + A^{14} B^{134} + A^{145} B^{1345} - A^{15} B^{135} + A^{2} B^{23} - A^{23} B^{2} + A^{234} B^{24} - A^{2345} B^{245} - A^{235} B^{25} + A^{24} B^{234} + A^{245} B^{2345} - A^{25} B^{235} + A^{3} B + A^{34} B^{4} + A^{345} B^{45} - A^{35} B^{5} - A^{4} B^{34} + A^{45} B^{345} + A^{5} B^{35}\\right ) \\boldsymbol{e}_{3} + \\left ( A B^{4} + A^{1} B^{14} - A^{12} B^{124} - A^{123} B^{1234} + A^{1234} B^{123} + A^{12345} B^{1235} + A^{1235} B^{12345} - A^{124} B^{12} + A^{1245} B^{125} - A^{125} B^{1245} - A^{13} B^{134} - A^{134} B^{13} + A^{1345} B^{135} - A^{135} B^{1345} - A^{14} B^{1} - A^{145} B^{15} - A^{15} B^{145} + A^{2} B^{24} - A^{23} B^{234} - A^{234} B^{23} + A^{2345} B^{235} - A^{235} B^{2345} - A^{24} B^{2} - A^{245} B^{25} - A^{25} B^{245} + A^{3} B^{34} - A^{34} B^{3} - A^{345} B^{35} - A^{35} B^{345} + A^{4} B - A^{45} B^{5} + A^{5} B^{45}\\right ) \\boldsymbol{e}_{4} + \\left ( A B^{5} + A^{1} B^{15} - A^{12} B^{125} - A^{123} B^{1235} + A^{1234} B^{12345} + A^{12345} B^{1234} + A^{1235} B^{123} - A^{124} B^{1245} + A^{1245} B^{124} - A^{125} B^{12} - A^{13} B^{135} - A^{134} B^{1345} + A^{1345} B^{134} - A^{135} B^{13} - A^{14} B^{145} - A^{145} B^{14} - A^{15} B^{1} + A^{2} B^{25} - A^{23} B^{235} - A^{234} B^{2345} + A^{2345} B^{234} - A^{235} B^{23} - A^{24} B^{245} - A^{245} B^{24} - A^{25} B^{2} + A^{3} B^{35} - A^{34} B^{345} - A^{345} B^{34} - A^{35} B^{3} + A^{4} B^{45} - A^{45} B^{4} + A^{5} B\\right ) \\boldsymbol{e}_{5} + \\left ( A B^{12} + A^{1} B^{2} + A^{12} B + A^{123} B^{3} - A^{1234} B^{34} + A^{12345} B^{345} + A^{1235} B^{35} + A^{124} B^{4} + A^{1245} B^{45} - A^{125} B^{5} - A^{13} B^{23} - A^{134} B^{234} - A^{1345} B^{2345} + A^{135} B^{235} - A^{14} B^{24} + A^{145} B^{245} + A^{15} B^{25} - A^{2} B^{1} + A^{23} B^{13} + A^{234} B^{134} + A^{2345} B^{1345} - A^{235} B^{135} + A^{24} B^{14} - A^{245} B^{145} - A^{25} B^{15} + A^{3} B^{123} - A^{34} B^{1234} + A^{345} B^{12345} + A^{35} B^{1235} + A^{4} B^{124} + A^{45} B^{1245} - A^{5} B^{125}\\right ) \\boldsymbol{e}_{1}\\wedge \\boldsymbol{e}_{2} + \\left ( A B^{13} + A^{1} B^{3} + A^{12} B^{23} - A^{123} B^{2} + A^{1234} B^{24} - A^{12345} B^{245} - A^{1235} B^{25} + A^{124} B^{234} + A^{1245} B^{2345} - A^{125} B^{235} + A^{13} B + A^{134} B^{4} + A^{1345} B^{45} - A^{135} B^{5} - A^{14} B^{34} + A^{145} B^{345} + A^{15} B^{35} - A^{2} B^{123} - A^{23} B^{12} - A^{234} B^{124} - A^{2345} B^{1245} + A^{235} B^{125} + A^{24} B^{1234} - A^{245} B^{12345} - A^{25} B^{1235} - A^{3} B^{1} + A^{34} B^{14} - A^{345} B^{145} - A^{35} B^{15} + A^{4} B^{134} + A^{45} B^{1345} - A^{5} B^{135}\\right ) \\boldsymbol{e}_{1}\\wedge \\boldsymbol{e}_{3} + \\left ( A B^{14} + A^{1} B^{4} + A^{12} B^{24} - A^{123} B^{234} - A^{1234} B^{23} + A^{12345} B^{235} - A^{1235} B^{2345} - A^{124} B^{2} - A^{1245} B^{25} - A^{125} B^{245} + A^{13} B^{34} - A^{134} B^{3} - A^{1345} B^{35} - A^{135} B^{345} + A^{14} B - A^{145} B^{5} + A^{15} B^{45} - A^{2} B^{124} - A^{23} B^{1234} + A^{234} B^{123} + A^{2345} B^{1235} + A^{235} B^{12345} - A^{24} B^{12} + A^{245} B^{125} - A^{25} B^{1245} - A^{3} B^{134} - A^{34} B^{13} + A^{345} B^{135} - A^{35} B^{1345} - A^{4} B^{1} - A^{45} B^{15} - A^{5} B^{145}\\right ) \\boldsymbol{e}_{1}\\wedge \\boldsymbol{e}_{4} + \\left ( A B^{15} + A^{1} B^{5} + A^{12} B^{25} - A^{123} B^{235} - A^{1234} B^{2345} + A^{12345} B^{234} - A^{1235} B^{23} - A^{124} B^{245} - A^{1245} B^{24} - A^{125} B^{2} + A^{13} B^{35} - A^{134} B^{345} - A^{1345} B^{34} - A^{135} B^{3} + A^{14} B^{45} - A^{145} B^{4} + A^{15} B - A^{2} B^{125} - A^{23} B^{1235} + A^{234} B^{12345} + A^{2345} B^{1234} + A^{235} B^{123} - A^{24} B^{1245} + A^{245} B^{124} - A^{25} B^{12} - A^{3} B^{135} - A^{34} B^{1345} + A^{345} B^{134} - A^{35} B^{13} - A^{4} B^{145} - A^{45} B^{14} - A^{5} B^{1}\\right ) \\boldsymbol{e}_{1}\\wedge \\boldsymbol{e}_{5} + \\left ( A B^{23} + A^{1} B^{123} - A^{12} B^{13} + A^{123} B^{1} - A^{1234} B^{14} + A^{12345} B^{145} + A^{1235} B^{15} - A^{124} B^{134} - A^{1245} B^{1345} + A^{125} B^{135} + A^{13} B^{12} + A^{134} B^{124} + A^{1345} B^{1245} - A^{135} B^{125} - A^{14} B^{1234} + A^{145} B^{12345} + A^{15} B^{1235} + A^{2} B^{3} + A^{23} B + A^{234} B^{4} + A^{2345} B^{45} - A^{235} B^{5} - A^{24} B^{34} + A^{245} B^{345} + A^{25} B^{35} - A^{3} B^{2} + A^{34} B^{24} - A^{345} B^{245} - A^{35} B^{25} + A^{4} B^{234} + A^{45} B^{2345} - A^{5} B^{235}\\right ) \\boldsymbol{e}_{2}\\wedge \\boldsymbol{e}_{3} + \\left ( A B^{24} + A^{1} B^{124} - A^{12} B^{14} + A^{123} B^{134} + A^{1234} B^{13} - A^{12345} B^{135} + A^{1235} B^{1345} + A^{124} B^{1} + A^{1245} B^{15} + A^{125} B^{145} + A^{13} B^{1234} - A^{134} B^{123} - A^{1345} B^{1235} - A^{135} B^{12345} + A^{14} B^{12} - A^{145} B^{125} + A^{15} B^{1245} + A^{2} B^{4} + A^{23} B^{34} - A^{234} B^{3} - A^{2345} B^{35} - A^{235} B^{345} + A^{24} B - A^{245} B^{5} + A^{25} B^{45} - A^{3} B^{234} - A^{34} B^{23} + A^{345} B^{235} - A^{35} B^{2345} - A^{4} B^{2} - A^{45} B^{25} - A^{5} B^{245}\\right ) \\boldsymbol{e}_{2}\\wedge \\boldsymbol{e}_{4} + \\left ( A B^{25} + A^{1} B^{125} - A^{12} B^{15} + A^{123} B^{135} + A^{1234} B^{1345} - A^{12345} B^{134} + A^{1235} B^{13} + A^{124} B^{145} + A^{1245} B^{14} + A^{125} B^{1} + A^{13} B^{1235} - A^{134} B^{12345} - A^{1345} B^{1234} - A^{135} B^{123} + A^{14} B^{1245} - A^{145} B^{124} + A^{15} B^{12} + A^{2} B^{5} + A^{23} B^{35} - A^{234} B^{345} - A^{2345} B^{34} - A^{235} B^{3} + A^{24} B^{45} - A^{245} B^{4} + A^{25} B - A^{3} B^{235} - A^{34} B^{2345} + A^{345} B^{234} - A^{35} B^{23} - A^{4} B^{245} - A^{45} B^{24} - A^{5} B^{2}\\right ) \\boldsymbol{e}_{2}\\wedge \\boldsymbol{e}_{5} + \\left ( A B^{34} + A^{1} B^{134} - A^{12} B^{1234} - A^{123} B^{124} - A^{1234} B^{12} + A^{12345} B^{125} - A^{1235} B^{1245} + A^{124} B^{123} + A^{1245} B^{1235} + A^{125} B^{12345} - A^{13} B^{14} + A^{134} B^{1} + A^{1345} B^{15} + A^{135} B^{145} + A^{14} B^{13} - A^{145} B^{135} + A^{15} B^{1345} + A^{2} B^{234} - A^{23} B^{24} + A^{234} B^{2} + A^{2345} B^{25} + A^{235} B^{245} + A^{24} B^{23} - A^{245} B^{235} + A^{25} B^{2345} + A^{3} B^{4} + A^{34} B - A^{345} B^{5} + A^{35} B^{45} - A^{4} B^{3} - A^{45} B^{35} - A^{5} B^{345}\\right ) \\boldsymbol{e}_{3}\\wedge \\boldsymbol{e}_{4} + \\left ( A B^{35} + A^{1} B^{135} - A^{12} B^{1235} - A^{123} B^{125} - A^{1234} B^{1245} + A^{12345} B^{124} - A^{1235} B^{12} + A^{124} B^{12345} + A^{1245} B^{1234} + A^{125} B^{123} - A^{13} B^{15} + A^{134} B^{145} + A^{1345} B^{14} + A^{135} B^{1} + A^{14} B^{1345} - A^{145} B^{134} + A^{15} B^{13} + A^{2} B^{235} - A^{23} B^{25} + A^{234} B^{245} + A^{2345} B^{24} + A^{235} B^{2} + A^{24} B^{2345} - A^{245} B^{234} + A^{25} B^{23} + A^{3} B^{5} + A^{34} B^{45} - A^{345} B^{4} + A^{35} B - A^{4} B^{345} - A^{45} B^{34} - A^{5} B^{3}\\right ) \\boldsymbol{e}_{3}\\wedge \\boldsymbol{e}_{5} + \\left ( A B^{45} + A^{1} B^{145} - A^{12} B^{1245} - A^{123} B^{12345} + A^{1234} B^{1235} - A^{12345} B^{123} - A^{1235} B^{1234} - A^{124} B^{125} - A^{1245} B^{12} + A^{125} B^{124} - A^{13} B^{1345} - A^{134} B^{135} - A^{1345} B^{13} + A^{135} B^{134} - A^{14} B^{15} + A^{145} B^{1} + A^{15} B^{14} + A^{2} B^{245} - A^{23} B^{2345} - A^{234} B^{235} - A^{2345} B^{23} + A^{235} B^{234} - A^{24} B^{25} + A^{245} B^{2} + A^{25} B^{24} + A^{3} B^{345} - A^{34} B^{35} + A^{345} B^{3} + A^{35} B^{34} + A^{4} B^{5} + A^{45} B - A^{5} B^{4}\\right ) \\boldsymbol{e}_{4}\\wedge \\boldsymbol{e}_{5} + \\left ( A B^{123} + A^{1} B^{23} + A^{12} B^{3} + A^{123} B + A^{1234} B^{4} + A^{12345} B^{45} - A^{1235} B^{5} - A^{124} B^{34} + A^{1245} B^{345} + A^{125} B^{35} - A^{13} B^{2} + A^{134} B^{24} - A^{1345} B^{245} - A^{135} B^{25} + A^{14} B^{234} + A^{145} B^{2345} - A^{15} B^{235} - A^{2} B^{13} + A^{23} B^{1} - A^{234} B^{14} + A^{2345} B^{145} + A^{235} B^{15} - A^{24} B^{134} - A^{245} B^{1345} + A^{25} B^{135} + A^{3} B^{12} + A^{34} B^{124} + A^{345} B^{1245} - A^{35} B^{125} - A^{4} B^{1234} + A^{45} B^{12345} + A^{5} B^{1235}\\right ) \\boldsymbol{e}_{1}\\wedge \\boldsymbol{e}_{2}\\wedge \\boldsymbol{e}_{3} + \\left ( A B^{124} + A^{1} B^{24} + A^{12} B^{4} + A^{123} B^{34} - A^{1234} B^{3} - A^{12345} B^{35} - A^{1235} B^{345} + A^{124} B - A^{1245} B^{5} + A^{125} B^{45} - A^{13} B^{234} - A^{134} B^{23} + A^{1345} B^{235} - A^{135} B^{2345} - A^{14} B^{2} - A^{145} B^{25} - A^{15} B^{245} - A^{2} B^{14} + A^{23} B^{134} + A^{234} B^{13} - A^{2345} B^{135} + A^{235} B^{1345} + A^{24} B^{1} + A^{245} B^{15} + A^{25} B^{145} + A^{3} B^{1234} - A^{34} B^{123} - A^{345} B^{1235} - A^{35} B^{12345} + A^{4} B^{12} - A^{45} B^{125} + A^{5} B^{1245}\\right ) \\boldsymbol{e}_{1}\\wedge \\boldsymbol{e}_{2}\\wedge \\boldsymbol{e}_{4} + \\left ( A B^{125} + A^{1} B^{25} + A^{12} B^{5} + A^{123} B^{35} - A^{1234} B^{345} - A^{12345} B^{34} - A^{1235} B^{3} + A^{124} B^{45} - A^{1245} B^{4} + A^{125} B - A^{13} B^{235} - A^{134} B^{2345} + A^{1345} B^{234} - A^{135} B^{23} - A^{14} B^{245} - A^{145} B^{24} - A^{15} B^{2} - A^{2} B^{15} + A^{23} B^{135} + A^{234} B^{1345} - A^{2345} B^{134} + A^{235} B^{13} + A^{24} B^{145} + A^{245} B^{14} + A^{25} B^{1} + A^{3} B^{1235} - A^{34} B^{12345} - A^{345} B^{1234} - A^{35} B^{123} + A^{4} B^{1245} - A^{45} B^{124} + A^{5} B^{12}\\right ) \\boldsymbol{e}_{1}\\wedge \\boldsymbol{e}_{2}\\wedge \\boldsymbol{e}_{5} + \\left ( A B^{134} + A^{1} B^{34} + A^{12} B^{234} - A^{123} B^{24} + A^{1234} B^{2} + A^{12345} B^{25} + A^{1235} B^{245} + A^{124} B^{23} - A^{1245} B^{235} + A^{125} B^{2345} + A^{13} B^{4} + A^{134} B - A^{1345} B^{5} + A^{135} B^{45} - A^{14} B^{3} - A^{145} B^{35} - A^{15} B^{345} - A^{2} B^{1234} - A^{23} B^{124} - A^{234} B^{12} + A^{2345} B^{125} - A^{235} B^{1245} + A^{24} B^{123} + A^{245} B^{1235} + A^{25} B^{12345} - A^{3} B^{14} + A^{34} B^{1} + A^{345} B^{15} + A^{35} B^{145} + A^{4} B^{13} - A^{45} B^{135} + A^{5} B^{1345}\\right ) \\boldsymbol{e}_{1}\\wedge \\boldsymbol{e}_{3}\\wedge \\boldsymbol{e}_{4} + \\left ( A B^{135} + A^{1} B^{35} + A^{12} B^{235} - A^{123} B^{25} + A^{1234} B^{245} + A^{12345} B^{24} + A^{1235} B^{2} + A^{124} B^{2345} - A^{1245} B^{234} + A^{125} B^{23} + A^{13} B^{5} + A^{134} B^{45} - A^{1345} B^{4} + A^{135} B - A^{14} B^{345} - A^{145} B^{34} - A^{15} B^{3} - A^{2} B^{1235} - A^{23} B^{125} - A^{234} B^{1245} + A^{2345} B^{124} - A^{235} B^{12} + A^{24} B^{12345} + A^{245} B^{1234} + A^{25} B^{123} - A^{3} B^{15} + A^{34} B^{145} + A^{345} B^{14} + A^{35} B^{1} + A^{4} B^{1345} - A^{45} B^{134} + A^{5} B^{13}\\right ) \\boldsymbol{e}_{1}\\wedge \\boldsymbol{e}_{3}\\wedge \\boldsymbol{e}_{5} + \\left ( A B^{145} + A^{1} B^{45} + A^{12} B^{245} - A^{123} B^{2345} - A^{1234} B^{235} - A^{12345} B^{23} + A^{1235} B^{234} - A^{124} B^{25} + A^{1245} B^{2} + A^{125} B^{24} + A^{13} B^{345} - A^{134} B^{35} + A^{1345} B^{3} + A^{135} B^{34} + A^{14} B^{5} + A^{145} B - A^{15} B^{4} - A^{2} B^{1245} - A^{23} B^{12345} + A^{234} B^{1235} - A^{2345} B^{123} - A^{235} B^{1234} - A^{24} B^{125} - A^{245} B^{12} + A^{25} B^{124} - A^{3} B^{1345} - A^{34} B^{135} - A^{345} B^{13} + A^{35} B^{134} - A^{4} B^{15} + A^{45} B^{1} + A^{5} B^{14}\\right ) \\boldsymbol{e}_{1}\\wedge \\boldsymbol{e}_{4}\\wedge \\boldsymbol{e}_{5} + \\left ( A B^{234} + A^{1} B^{1234} - A^{12} B^{134} + A^{123} B^{14} - A^{1234} B^{1} - A^{12345} B^{15} - A^{1235} B^{145} - A^{124} B^{13} + A^{1245} B^{135} - A^{125} B^{1345} + A^{13} B^{124} + A^{134} B^{12} - A^{1345} B^{125} + A^{135} B^{1245} - A^{14} B^{123} - A^{145} B^{1235} - A^{15} B^{12345} + A^{2} B^{34} + A^{23} B^{4} + A^{234} B - A^{2345} B^{5} + A^{235} B^{45} - A^{24} B^{3} - A^{245} B^{35} - A^{25} B^{345} - A^{3} B^{24} + A^{34} B^{2} + A^{345} B^{25} + A^{35} B^{245} + A^{4} B^{23} - A^{45} B^{235} + A^{5} B^{2345}\\right ) \\boldsymbol{e}_{2}\\wedge \\boldsymbol{e}_{3}\\wedge \\boldsymbol{e}_{4} + \\left ( A B^{235} + A^{1} B^{1235} - A^{12} B^{135} + A^{123} B^{15} - A^{1234} B^{145} - A^{12345} B^{14} - A^{1235} B^{1} - A^{124} B^{1345} + A^{1245} B^{134} - A^{125} B^{13} + A^{13} B^{125} + A^{134} B^{1245} - A^{1345} B^{124} + A^{135} B^{12} - A^{14} B^{12345} - A^{145} B^{1234} - A^{15} B^{123} + A^{2} B^{35} + A^{23} B^{5} + A^{234} B^{45} - A^{2345} B^{4} + A^{235} B - A^{24} B^{345} - A^{245} B^{34} - A^{25} B^{3} - A^{3} B^{25} + A^{34} B^{245} + A^{345} B^{24} + A^{35} B^{2} + A^{4} B^{2345} - A^{45} B^{234} + A^{5} B^{23}\\right ) \\boldsymbol{e}_{2}\\wedge \\boldsymbol{e}_{3}\\wedge \\boldsymbol{e}_{5} + \\left ( A B^{245} + A^{1} B^{1245} - A^{12} B^{145} + A^{123} B^{1345} + A^{1234} B^{135} + A^{12345} B^{13} - A^{1235} B^{134} + A^{124} B^{15} - A^{1245} B^{1} - A^{125} B^{14} + A^{13} B^{12345} - A^{134} B^{1235} + A^{1345} B^{123} + A^{135} B^{1234} + A^{14} B^{125} + A^{145} B^{12} - A^{15} B^{124} + A^{2} B^{45} + A^{23} B^{345} - A^{234} B^{35} + A^{2345} B^{3} + A^{235} B^{34} + A^{24} B^{5} + A^{245} B - A^{25} B^{4} - A^{3} B^{2345} - A^{34} B^{235} - A^{345} B^{23} + A^{35} B^{234} - A^{4} B^{25} + A^{45} B^{2} + A^{5} B^{24}\\right ) \\boldsymbol{e}_{2}\\wedge \\boldsymbol{e}_{4}\\wedge \\boldsymbol{e}_{5} + \\left ( A B^{345} + A^{1} B^{1345} - A^{12} B^{12345} - A^{123} B^{1245} - A^{1234} B^{125} - A^{12345} B^{12} + A^{1235} B^{124} + A^{124} B^{1235} - A^{1245} B^{123} - A^{125} B^{1234} - A^{13} B^{145} + A^{134} B^{15} - A^{1345} B^{1} - A^{135} B^{14} + A^{14} B^{135} + A^{145} B^{13} - A^{15} B^{134} + A^{2} B^{2345} - A^{23} B^{245} + A^{234} B^{25} - A^{2345} B^{2} - A^{235} B^{24} + A^{24} B^{235} + A^{245} B^{23} - A^{25} B^{234} + A^{3} B^{45} + A^{34} B^{5} + A^{345} B - A^{35} B^{4} - A^{4} B^{35} + A^{45} B^{3} + A^{5} B^{34}\\right ) \\boldsymbol{e}_{3}\\wedge \\boldsymbol{e}_{4}\\wedge \\boldsymbol{e}_{5} + \\left ( A B^{1234} + A^{1} B^{234} + A^{12} B^{34} + A^{123} B^{4} + A^{1234} B - A^{12345} B^{5} + A^{1235} B^{45} - A^{124} B^{3} - A^{1245} B^{35} - A^{125} B^{345} - A^{13} B^{24} + A^{134} B^{2} + A^{1345} B^{25} + A^{135} B^{245} + A^{14} B^{23} - A^{145} B^{235} + A^{15} B^{2345} - A^{2} B^{134} + A^{23} B^{14} - A^{234} B^{1} - A^{2345} B^{15} - A^{235} B^{145} - A^{24} B^{13} + A^{245} B^{135} - A^{25} B^{1345} + A^{3} B^{124} + A^{34} B^{12} - A^{345} B^{125} + A^{35} B^{1245} - A^{4} B^{123} - A^{45} B^{1235} - A^{5} B^{12345}\\right ) \\boldsymbol{e}_{1}\\wedge \\boldsymbol{e}_{2}\\wedge \\boldsymbol{e}_{3}\\wedge \\boldsymbol{e}_{4} + \\left ( A B^{1235} + A^{1} B^{235} + A^{12} B^{35} + A^{123} B^{5} + A^{1234} B^{45} - A^{12345} B^{4} + A^{1235} B - A^{124} B^{345} - A^{1245} B^{34} - A^{125} B^{3} - A^{13} B^{25} + A^{134} B^{245} + A^{1345} B^{24} + A^{135} B^{2} + A^{14} B^{2345} - A^{145} B^{234} + A^{15} B^{23} - A^{2} B^{135} + A^{23} B^{15} - A^{234} B^{145} - A^{2345} B^{14} - A^{235} B^{1} - A^{24} B^{1345} + A^{245} B^{134} - A^{25} B^{13} + A^{3} B^{125} + A^{34} B^{1245} - A^{345} B^{124} + A^{35} B^{12} - A^{4} B^{12345} - A^{45} B^{1234} - A^{5} B^{123}\\right ) \\boldsymbol{e}_{1}\\wedge \\boldsymbol{e}_{2}\\wedge \\boldsymbol{e}_{3}\\wedge \\boldsymbol{e}_{5} + \\left ( A B^{1245} + A^{1} B^{245} + A^{12} B^{45} + A^{123} B^{345} - A^{1234} B^{35} + A^{12345} B^{3} + A^{1235} B^{34} + A^{124} B^{5} + A^{1245} B - A^{125} B^{4} - A^{13} B^{2345} - A^{134} B^{235} - A^{1345} B^{23} + A^{135} B^{234} - A^{14} B^{25} + A^{145} B^{2} + A^{15} B^{24} - A^{2} B^{145} + A^{23} B^{1345} + A^{234} B^{135} + A^{2345} B^{13} - A^{235} B^{134} + A^{24} B^{15} - A^{245} B^{1} - A^{25} B^{14} + A^{3} B^{12345} - A^{34} B^{1235} + A^{345} B^{123} + A^{35} B^{1234} + A^{4} B^{125} + A^{45} B^{12} - A^{5} B^{124}\\right ) \\boldsymbol{e}_{1}\\wedge \\boldsymbol{e}_{2}\\wedge \\boldsymbol{e}_{4}\\wedge \\boldsymbol{e}_{5} + \\left ( A B^{1345} + A^{1} B^{345} + A^{12} B^{2345} - A^{123} B^{245} + A^{1234} B^{25} - A^{12345} B^{2} - A^{1235} B^{24} + A^{124} B^{235} + A^{1245} B^{23} - A^{125} B^{234} + A^{13} B^{45} + A^{134} B^{5} + A^{1345} B - A^{135} B^{4} - A^{14} B^{35} + A^{145} B^{3} + A^{15} B^{34} - A^{2} B^{12345} - A^{23} B^{1245} - A^{234} B^{125} - A^{2345} B^{12} + A^{235} B^{124} + A^{24} B^{1235} - A^{245} B^{123} - A^{25} B^{1234} - A^{3} B^{145} + A^{34} B^{15} - A^{345} B^{1} - A^{35} B^{14} + A^{4} B^{135} + A^{45} B^{13} - A^{5} B^{134}\\right ) \\boldsymbol{e}_{1}\\wedge \\boldsymbol{e}_{3}\\wedge \\boldsymbol{e}_{4}\\wedge \\boldsymbol{e}_{5} + \\left ( A B^{2345} + A^{1} B^{12345} - A^{12} B^{1345} + A^{123} B^{145} - A^{1234} B^{15} + A^{12345} B^{1} + A^{1235} B^{14} - A^{124} B^{135} - A^{1245} B^{13} + A^{125} B^{134} + A^{13} B^{1245} + A^{134} B^{125} + A^{1345} B^{12} - A^{135} B^{124} - A^{14} B^{1235} + A^{145} B^{123} + A^{15} B^{1234} + A^{2} B^{345} + A^{23} B^{45} + A^{234} B^{5} + A^{2345} B - A^{235} B^{4} - A^{24} B^{35} + A^{245} B^{3} + A^{25} B^{34} - A^{3} B^{245} + A^{34} B^{25} - A^{345} B^{2} - A^{35} B^{24} + A^{4} B^{235} + A^{45} B^{23} - A^{5} B^{234}\\right ) \\boldsymbol{e}_{2}\\wedge \\boldsymbol{e}_{3}\\wedge \\boldsymbol{e}_{4}\\wedge \\boldsymbol{e}_{5} + \\left ( A B^{12345} + A^{1} B^{2345} + A^{12} B^{345} + A^{123} B^{45} + A^{1234} B^{5} + A^{12345} B - A^{1235} B^{4} - A^{124} B^{35} + A^{1245} B^{3} + A^{125} B^{34} - A^{13} B^{245} + A^{134} B^{25} - A^{1345} B^{2} - A^{135} B^{24} + A^{14} B^{235} + A^{145} B^{23} - A^{15} B^{234} - A^{2} B^{1345} + A^{23} B^{145} - A^{234} B^{15} + A^{2345} B^{1} + A^{235} B^{14} - A^{24} B^{135} - A^{245} B^{13} + A^{25} B^{134} + A^{3} B^{1245} + A^{34} B^{125} + A^{345} B^{12} - A^{35} B^{124} - A^{4} B^{1235} + A^{45} B^{123} + A^{5} B^{1234}\\right ) \\boldsymbol{e}_{1}\\wedge \\boldsymbol{e}_{2}\\wedge \\boldsymbol{e}_{3}\\wedge \\boldsymbol{e}_{4}\\wedge \\boldsymbol{e}_{5}\\end{align*}"
      ],
      "text/plain": [
       "A*B + A__1*B__1 - A__12*B__12 - A__123*B__123 + A__1234*B__1234 - A__12345*B__12345 - A__1235*B__1235 - A__124*B__124 - A__1245*B__1245 + A__125*B__125 - A__13*B__13 - A__134*B__134 - A__1345*B__1345 + A__135*B__135 - A__14*B__14 + A__145*B__145 + A__15*B__15 + A__2*B__2 - A__23*B__23 - A__234*B__234 - A__2345*B__2345 + A__235*B__235 - A__24*B__24 + A__245*B__245 + A__25*B__25 + A__3*B__3 - A__34*B__34 + A__345*B__345 + A__35*B__35 + A__4*B__4 + A__45*B__45 - A__5*B__5 + (A*B__1 + A__1*B + A__12*B__2 - A__123*B__23 - A__1234*B__234 - A__12345*B__2345 + A__1235*B__235 - A__124*B__24 + A__1245*B__245 + A__125*B__25 + A__13*B__3 - A__134*B__34 + A__1345*B__345 + A__135*B__35 + A__14*B__4 + A__145*B__45 - A__15*B__5 - A__2*B__12 - A__23*B__123 + A__234*B__1234 - A__2345*B__12345 - A__235*B__1235 - A__24*B__124 - A__245*B__1245 + A__25*B__125 - A__3*B__13 - A__34*B__134 - A__345*B__1345 + A__35*B__135 - A__4*B__14 + A__45*B__145 + A__5*B__15)*e_1 + (A*B__2 + A__1*B__12 - A__12*B__1 + A__123*B__13 + A__1234*B__134 + A__12345*B__1345 - A__1235*B__135 + A__124*B__14 - A__1245*B__145 - A__125*B__15 + A__13*B__123 - A__134*B__1234 + A__1345*B__12345 + A__135*B__1235 + A__14*B__124 + A__145*B__1245 - A__15*B__125 + A__2*B + A__23*B__3 - A__234*B__34 + A__2345*B__345 + A__235*B__35 + A__24*B__4 + A__245*B__45 - A__25*B__5 - A__3*B__23 - A__34*B__234 - A__345*B__2345 + A__35*B__235 - A__4*B__24 + A__45*B__245 + A__5*B__25)*e_2 + (A*B__3 + A__1*B__13 - A__12*B__123 - A__123*B__12 - A__1234*B__124 - A__12345*B__1245 + A__1235*B__125 + A__124*B__1234 - A__1245*B__12345 - A__125*B__1235 - A__13*B__1 + A__134*B__14 - A__1345*B__145 - A__135*B__15 + A__14*B__134 + A__145*B__1345 - A__15*B__135 + A__2*B__23 - A__23*B__2 + A__234*B__24 - A__2345*B__245 - A__235*B__25 + A__24*B__234 + A__245*B__2345 - A__25*B__235 + A__3*B + A__34*B__4 + A__345*B__45 - A__35*B__5 - A__4*B__34 + A__45*B__345 + A__5*B__35)*e_3 + (A*B__4 + A__1*B__14 - A__12*B__124 - A__123*B__1234 + A__1234*B__123 + A__12345*B__1235 + A__1235*B__12345 - A__124*B__12 + A__1245*B__125 - A__125*B__1245 - A__13*B__134 - A__134*B__13 + A__1345*B__135 - A__135*B__1345 - A__14*B__1 - A__145*B__15 - A__15*B__145 + A__2*B__24 - A__23*B__234 - A__234*B__23 + A__2345*B__235 - A__235*B__2345 - A__24*B__2 - A__245*B__25 - A__25*B__245 + A__3*B__34 - A__34*B__3 - A__345*B__35 - A__35*B__345 + A__4*B - A__45*B__5 + A__5*B__45)*e_4 + (A*B__5 + A__1*B__15 - A__12*B__125 - A__123*B__1235 + A__1234*B__12345 + A__12345*B__1234 + A__1235*B__123 - A__124*B__1245 + A__1245*B__124 - A__125*B__12 - A__13*B__135 - A__134*B__1345 + A__1345*B__134 - A__135*B__13 - A__14*B__145 - A__145*B__14 - A__15*B__1 + A__2*B__25 - A__23*B__235 - A__234*B__2345 + A__2345*B__234 - A__235*B__23 - A__24*B__245 - A__245*B__24 - A__25*B__2 + A__3*B__35 - A__34*B__345 - A__345*B__34 - A__35*B__3 + A__4*B__45 - A__45*B__4 + A__5*B)*e_5 + (A*B__12 + A__1*B__2 + A__12*B + A__123*B__3 - A__1234*B__34 + A__12345*B__345 + A__1235*B__35 + A__124*B__4 + A__1245*B__45 - A__125*B__5 - A__13*B__23 - A__134*B__234 - A__1345*B__2345 + A__135*B__235 - A__14*B__24 + A__145*B__245 + A__15*B__25 - A__2*B__1 + A__23*B__13 + A__234*B__134 + A__2345*B__1345 - A__235*B__135 + A__24*B__14 - A__245*B__145 - A__25*B__15 + A__3*B__123 - A__34*B__1234 + A__345*B__12345 + A__35*B__1235 + A__4*B__124 + A__45*B__1245 - A__5*B__125)*e_1^e_2 + (A*B__13 + A__1*B__3 + A__12*B__23 - A__123*B__2 + A__1234*B__24 - A__12345*B__245 - A__1235*B__25 + A__124*B__234 + A__1245*B__2345 - A__125*B__235 + A__13*B + A__134*B__4 + A__1345*B__45 - A__135*B__5 - A__14*B__34 + A__145*B__345 + A__15*B__35 - A__2*B__123 - A__23*B__12 - A__234*B__124 - A__2345*B__1245 + A__235*B__125 + A__24*B__1234 - A__245*B__12345 - A__25*B__1235 - A__3*B__1 + A__34*B__14 - A__345*B__145 - A__35*B__15 + A__4*B__134 + A__45*B__1345 - A__5*B__135)*e_1^e_3 + (A*B__14 + A__1*B__4 + A__12*B__24 - A__123*B__234 - A__1234*B__23 + A__12345*B__235 - A__1235*B__2345 - A__124*B__2 - A__1245*B__25 - A__125*B__245 + A__13*B__34 - A__134*B__3 - A__1345*B__35 - A__135*B__345 + A__14*B - A__145*B__5 + A__15*B__45 - A__2*B__124 - A__23*B__1234 + A__234*B__123 + A__2345*B__1235 + A__235*B__12345 - A__24*B__12 + A__245*B__125 - A__25*B__1245 - A__3*B__134 - A__34*B__13 + A__345*B__135 - A__35*B__1345 - A__4*B__1 - A__45*B__15 - A__5*B__145)*e_1^e_4 + (A*B__15 + A__1*B__5 + A__12*B__25 - A__123*B__235 - A__1234*B__2345 + A__12345*B__234 - A__1235*B__23 - A__124*B__245 - A__1245*B__24 - A__125*B__2 + A__13*B__35 - A__134*B__345 - A__1345*B__34 - A__135*B__3 + A__14*B__45 - A__145*B__4 + A__15*B - A__2*B__125 - A__23*B__1235 + A__234*B__12345 + A__2345*B__1234 + A__235*B__123 - A__24*B__1245 + A__245*B__124 - A__25*B__12 - A__3*B__135 - A__34*B__1345 + A__345*B__134 - A__35*B__13 - A__4*B__145 - A__45*B__14 - A__5*B__1)*e_1^e_5 + (A*B__23 + A__1*B__123 - A__12*B__13 + A__123*B__1 - A__1234*B__14 + A__12345*B__145 + A__1235*B__15 - A__124*B__134 - A__1245*B__1345 + A__125*B__135 + A__13*B__12 + A__134*B__124 + A__1345*B__1245 - A__135*B__125 - A__14*B__1234 + A__145*B__12345 + A__15*B__1235 + A__2*B__3 + A__23*B + A__234*B__4 + A__2345*B__45 - A__235*B__5 - A__24*B__34 + A__245*B__345 + A__25*B__35 - A__3*B__2 + A__34*B__24 - A__345*B__245 - A__35*B__25 + A__4*B__234 + A__45*B__2345 - A__5*B__235)*e_2^e_3 + (A*B__24 + A__1*B__124 - A__12*B__14 + A__123*B__134 + A__1234*B__13 - A__12345*B__135 + A__1235*B__1345 + A__124*B__1 + A__1245*B__15 + A__125*B__145 + A__13*B__1234 - A__134*B__123 - A__1345*B__1235 - A__135*B__12345 + A__14*B__12 - A__145*B__125 + A__15*B__1245 + A__2*B__4 + A__23*B__34 - A__234*B__3 - A__2345*B__35 - A__235*B__345 + A__24*B - A__245*B__5 + A__25*B__45 - A__3*B__234 - A__34*B__23 + A__345*B__235 - A__35*B__2345 - A__4*B__2 - A__45*B__25 - A__5*B__245)*e_2^e_4 + (A*B__25 + A__1*B__125 - A__12*B__15 + A__123*B__135 + A__1234*B__1345 - A__12345*B__134 + A__1235*B__13 + A__124*B__145 + A__1245*B__14 + A__125*B__1 + A__13*B__1235 - A__134*B__12345 - A__1345*B__1234 - A__135*B__123 + A__14*B__1245 - A__145*B__124 + A__15*B__12 + A__2*B__5 + A__23*B__35 - A__234*B__345 - A__2345*B__34 - A__235*B__3 + A__24*B__45 - A__245*B__4 + A__25*B - A__3*B__235 - A__34*B__2345 + A__345*B__234 - A__35*B__23 - A__4*B__245 - A__45*B__24 - A__5*B__2)*e_2^e_5 + (A*B__34 + A__1*B__134 - A__12*B__1234 - A__123*B__124 - A__1234*B__12 + A__12345*B__125 - A__1235*B__1245 + A__124*B__123 + A__1245*B__1235 + A__125*B__12345 - A__13*B__14 + A__134*B__1 + A__1345*B__15 + A__135*B__145 + A__14*B__13 - A__145*B__135 + A__15*B__1345 + A__2*B__234 - A__23*B__24 + A__234*B__2 + A__2345*B__25 + A__235*B__245 + A__24*B__23 - A__245*B__235 + A__25*B__2345 + A__3*B__4 + A__34*B - A__345*B__5 + A__35*B__45 - A__4*B__3 - A__45*B__35 - A__5*B__345)*e_3^e_4 + (A*B__35 + A__1*B__135 - A__12*B__1235 - A__123*B__125 - A__1234*B__1245 + A__12345*B__124 - A__1235*B__12 + A__124*B__12345 + A__1245*B__1234 + A__125*B__123 - A__13*B__15 + A__134*B__145 + A__1345*B__14 + A__135*B__1 + A__14*B__1345 - A__145*B__134 + A__15*B__13 + A__2*B__235 - A__23*B__25 + A__234*B__245 + A__2345*B__24 + A__235*B__2 + A__24*B__2345 - A__245*B__234 + A__25*B__23 + A__3*B__5 + A__34*B__45 - A__345*B__4 + A__35*B - A__4*B__345 - A__45*B__34 - A__5*B__3)*e_3^e_5 + (A*B__45 + A__1*B__145 - A__12*B__1245 - A__123*B__12345 + A__1234*B__1235 - A__12345*B__123 - A__1235*B__1234 - A__124*B__125 - A__1245*B__12 + A__125*B__124 - A__13*B__1345 - A__134*B__135 - A__1345*B__13 + A__135*B__134 - A__14*B__15 + A__145*B__1 + A__15*B__14 + A__2*B__245 - A__23*B__2345 - A__234*B__235 - A__2345*B__23 + A__235*B__234 - A__24*B__25 + A__245*B__2 + A__25*B__24 + A__3*B__345 - A__34*B__35 + A__345*B__3 + A__35*B__34 + A__4*B__5 + A__45*B - A__5*B__4)*e_4^e_5 + (A*B__123 + A__1*B__23 + A__12*B__3 + A__123*B + A__1234*B__4 + A__12345*B__45 - A__1235*B__5 - A__124*B__34 + A__1245*B__345 + A__125*B__35 - A__13*B__2 + A__134*B__24 - A__1345*B__245 - A__135*B__25 + A__14*B__234 + A__145*B__2345 - A__15*B__235 - A__2*B__13 + A__23*B__1 - A__234*B__14 + A__2345*B__145 + A__235*B__15 - A__24*B__134 - A__245*B__1345 + A__25*B__135 + A__3*B__12 + A__34*B__124 + A__345*B__1245 - A__35*B__125 - A__4*B__1234 + A__45*B__12345 + A__5*B__1235)*e_1^e_2^e_3 + (A*B__124 + A__1*B__24 + A__12*B__4 + A__123*B__34 - A__1234*B__3 - A__12345*B__35 - A__1235*B__345 + A__124*B - A__1245*B__5 + A__125*B__45 - A__13*B__234 - A__134*B__23 + A__1345*B__235 - A__135*B__2345 - A__14*B__2 - A__145*B__25 - A__15*B__245 - A__2*B__14 + A__23*B__134 + A__234*B__13 - A__2345*B__135 + A__235*B__1345 + A__24*B__1 + A__245*B__15 + A__25*B__145 + A__3*B__1234 - A__34*B__123 - A__345*B__1235 - A__35*B__12345 + A__4*B__12 - A__45*B__125 + A__5*B__1245)*e_1^e_2^e_4 + (A*B__125 + A__1*B__25 + A__12*B__5 + A__123*B__35 - A__1234*B__345 - A__12345*B__34 - A__1235*B__3 + A__124*B__45 - A__1245*B__4 + A__125*B - A__13*B__235 - A__134*B__2345 + A__1345*B__234 - A__135*B__23 - A__14*B__245 - A__145*B__24 - A__15*B__2 - A__2*B__15 + A__23*B__135 + A__234*B__1345 - A__2345*B__134 + A__235*B__13 + A__24*B__145 + A__245*B__14 + A__25*B__1 + A__3*B__1235 - A__34*B__12345 - A__345*B__1234 - A__35*B__123 + A__4*B__1245 - A__45*B__124 + A__5*B__12)*e_1^e_2^e_5 + (A*B__134 + A__1*B__34 + A__12*B__234 - A__123*B__24 + A__1234*B__2 + A__12345*B__25 + A__1235*B__245 + A__124*B__23 - A__1245*B__235 + A__125*B__2345 + A__13*B__4 + A__134*B - A__1345*B__5 + A__135*B__45 - A__14*B__3 - A__145*B__35 - A__15*B__345 - A__2*B__1234 - A__23*B__124 - A__234*B__12 + A__2345*B__125 - A__235*B__1245 + A__24*B__123 + A__245*B__1235 + A__25*B__12345 - A__3*B__14 + A__34*B__1 + A__345*B__15 + A__35*B__145 + A__4*B__13 - A__45*B__135 + A__5*B__1345)*e_1^e_3^e_4 + (A*B__135 + A__1*B__35 + A__12*B__235 - A__123*B__25 + A__1234*B__245 + A__12345*B__24 + A__1235*B__2 + A__124*B__2345 - A__1245*B__234 + A__125*B__23 + A__13*B__5 + A__134*B__45 - A__1345*B__4 + A__135*B - A__14*B__345 - A__145*B__34 - A__15*B__3 - A__2*B__1235 - A__23*B__125 - A__234*B__1245 + A__2345*B__124 - A__235*B__12 + A__24*B__12345 + A__245*B__1234 + A__25*B__123 - A__3*B__15 + A__34*B__145 + A__345*B__14 + A__35*B__1 + A__4*B__1345 - A__45*B__134 + A__5*B__13)*e_1^e_3^e_5 + (A*B__145 + A__1*B__45 + A__12*B__245 - A__123*B__2345 - A__1234*B__235 - A__12345*B__23 + A__1235*B__234 - A__124*B__25 + A__1245*B__2 + A__125*B__24 + A__13*B__345 - A__134*B__35 + A__1345*B__3 + A__135*B__34 + A__14*B__5 + A__145*B - A__15*B__4 - A__2*B__1245 - A__23*B__12345 + A__234*B__1235 - A__2345*B__123 - A__235*B__1234 - A__24*B__125 - A__245*B__12 + A__25*B__124 - A__3*B__1345 - A__34*B__135 - A__345*B__13 + A__35*B__134 - A__4*B__15 + A__45*B__1 + A__5*B__14)*e_1^e_4^e_5 + (A*B__234 + A__1*B__1234 - A__12*B__134 + A__123*B__14 - A__1234*B__1 - A__12345*B__15 - A__1235*B__145 - A__124*B__13 + A__1245*B__135 - A__125*B__1345 + A__13*B__124 + A__134*B__12 - A__1345*B__125 + A__135*B__1245 - A__14*B__123 - A__145*B__1235 - A__15*B__12345 + A__2*B__34 + A__23*B__4 + A__234*B - A__2345*B__5 + A__235*B__45 - A__24*B__3 - A__245*B__35 - A__25*B__345 - A__3*B__24 + A__34*B__2 + A__345*B__25 + A__35*B__245 + A__4*B__23 - A__45*B__235 + A__5*B__2345)*e_2^e_3^e_4 + (A*B__235 + A__1*B__1235 - A__12*B__135 + A__123*B__15 - A__1234*B__145 - A__12345*B__14 - A__1235*B__1 - A__124*B__1345 + A__1245*B__134 - A__125*B__13 + A__13*B__125 + A__134*B__1245 - A__1345*B__124 + A__135*B__12 - A__14*B__12345 - A__145*B__1234 - A__15*B__123 + A__2*B__35 + A__23*B__5 + A__234*B__45 - A__2345*B__4 + A__235*B - A__24*B__345 - A__245*B__34 - A__25*B__3 - A__3*B__25 + A__34*B__245 + A__345*B__24 + A__35*B__2 + A__4*B__2345 - A__45*B__234 + A__5*B__23)*e_2^e_3^e_5 + (A*B__245 + A__1*B__1245 - A__12*B__145 + A__123*B__1345 + A__1234*B__135 + A__12345*B__13 - A__1235*B__134 + A__124*B__15 - A__1245*B__1 - A__125*B__14 + A__13*B__12345 - A__134*B__1235 + A__1345*B__123 + A__135*B__1234 + A__14*B__125 + A__145*B__12 - A__15*B__124 + A__2*B__45 + A__23*B__345 - A__234*B__35 + A__2345*B__3 + A__235*B__34 + A__24*B__5 + A__245*B - A__25*B__4 - A__3*B__2345 - A__34*B__235 - A__345*B__23 + A__35*B__234 - A__4*B__25 + A__45*B__2 + A__5*B__24)*e_2^e_4^e_5 + (A*B__345 + A__1*B__1345 - A__12*B__12345 - A__123*B__1245 - A__1234*B__125 - A__12345*B__12 + A__1235*B__124 + A__124*B__1235 - A__1245*B__123 - A__125*B__1234 - A__13*B__145 + A__134*B__15 - A__1345*B__1 - A__135*B__14 + A__14*B__135 + A__145*B__13 - A__15*B__134 + A__2*B__2345 - A__23*B__245 + A__234*B__25 - A__2345*B__2 - A__235*B__24 + A__24*B__235 + A__245*B__23 - A__25*B__234 + A__3*B__45 + A__34*B__5 + A__345*B - A__35*B__4 - A__4*B__35 + A__45*B__3 + A__5*B__34)*e_3^e_4^e_5 + (A*B__1234 + A__1*B__234 + A__12*B__34 + A__123*B__4 + A__1234*B - A__12345*B__5 + A__1235*B__45 - A__124*B__3 - A__1245*B__35 - A__125*B__345 - A__13*B__24 + A__134*B__2 + A__1345*B__25 + A__135*B__245 + A__14*B__23 - A__145*B__235 + A__15*B__2345 - A__2*B__134 + A__23*B__14 - A__234*B__1 - A__2345*B__15 - A__235*B__145 - A__24*B__13 + A__245*B__135 - A__25*B__1345 + A__3*B__124 + A__34*B__12 - A__345*B__125 + A__35*B__1245 - A__4*B__123 - A__45*B__1235 - A__5*B__12345)*e_1^e_2^e_3^e_4 + (A*B__1235 + A__1*B__235 + A__12*B__35 + A__123*B__5 + A__1234*B__45 - A__12345*B__4 + A__1235*B - A__124*B__345 - A__1245*B__34 - A__125*B__3 - A__13*B__25 + A__134*B__245 + A__1345*B__24 + A__135*B__2 + A__14*B__2345 - A__145*B__234 + A__15*B__23 - A__2*B__135 + A__23*B__15 - A__234*B__145 - A__2345*B__14 - A__235*B__1 - A__24*B__1345 + A__245*B__134 - A__25*B__13 + A__3*B__125 + A__34*B__1245 - A__345*B__124 + A__35*B__12 - A__4*B__12345 - A__45*B__1234 - A__5*B__123)*e_1^e_2^e_3^e_5 + (A*B__1245 + A__1*B__245 + A__12*B__45 + A__123*B__345 - A__1234*B__35 + A__12345*B__3 + A__1235*B__34 + A__124*B__5 + A__1245*B - A__125*B__4 - A__13*B__2345 - A__134*B__235 - A__1345*B__23 + A__135*B__234 - A__14*B__25 + A__145*B__2 + A__15*B__24 - A__2*B__145 + A__23*B__1345 + A__234*B__135 + A__2345*B__13 - A__235*B__134 + A__24*B__15 - A__245*B__1 - A__25*B__14 + A__3*B__12345 - A__34*B__1235 + A__345*B__123 + A__35*B__1234 + A__4*B__125 + A__45*B__12 - A__5*B__124)*e_1^e_2^e_4^e_5 + (A*B__1345 + A__1*B__345 + A__12*B__2345 - A__123*B__245 + A__1234*B__25 - A__12345*B__2 - A__1235*B__24 + A__124*B__235 + A__1245*B__23 - A__125*B__234 + A__13*B__45 + A__134*B__5 + A__1345*B - A__135*B__4 - A__14*B__35 + A__145*B__3 + A__15*B__34 - A__2*B__12345 - A__23*B__1245 - A__234*B__125 - A__2345*B__12 + A__235*B__124 + A__24*B__1235 - A__245*B__123 - A__25*B__1234 - A__3*B__145 + A__34*B__15 - A__345*B__1 - A__35*B__14 + A__4*B__135 + A__45*B__13 - A__5*B__134)*e_1^e_3^e_4^e_5 + (A*B__2345 + A__1*B__12345 - A__12*B__1345 + A__123*B__145 - A__1234*B__15 + A__12345*B__1 + A__1235*B__14 - A__124*B__135 - A__1245*B__13 + A__125*B__134 + A__13*B__1245 + A__134*B__125 + A__1345*B__12 - A__135*B__124 - A__14*B__1235 + A__145*B__123 + A__15*B__1234 + A__2*B__345 + A__23*B__45 + A__234*B__5 + A__2345*B - A__235*B__4 - A__24*B__35 + A__245*B__3 + A__25*B__34 - A__3*B__245 + A__34*B__25 - A__345*B__2 - A__35*B__24 + A__4*B__235 + A__45*B__23 - A__5*B__234)*e_2^e_3^e_4^e_5 + (A*B__12345 + A__1*B__2345 + A__12*B__345 + A__123*B__45 + A__1234*B__5 + A__12345*B - A__1235*B__4 - A__124*B__35 + A__1245*B__3 + A__125*B__34 - A__13*B__245 + A__134*B__25 - A__1345*B__2 - A__135*B__24 + A__14*B__235 + A__145*B__23 - A__15*B__234 - A__2*B__1345 + A__23*B__145 - A__234*B__15 + A__2345*B__1 + A__235*B__14 - A__24*B__135 - A__245*B__13 + A__25*B__134 + A__3*B__1245 + A__34*B__125 + A__345*B__12 - A__35*B__124 - A__4*B__1235 + A__45*B__123 + A__5*B__1234)*e_1^e_2^e_3^e_4^e_5"
      ]
     },
     "metadata": {},
     "output_type": "display_data"
    }
   ],
   "source": [
    "@time test_geometric_product(CGA3D)"
   ]
  },
  {
   "cell_type": "code",
   "execution_count": 25,
   "metadata": {},
   "outputs": [],
   "source": [
    "using Profile"
   ]
  },
  {
   "cell_type": "code",
   "execution_count": 26,
   "metadata": {},
   "outputs": [],
   "source": [
    "Profile.init(n = 10^8, delay = 0.01)"
   ]
  },
  {
   "cell_type": "code",
   "execution_count": 27,
   "metadata": {},
   "outputs": [
    {
     "name": "stdout",
     "output_type": "stream",
     "text": [
      "  0.402317 seconds (122 allocations: 3.531 KiB)\n"
     ]
    },
    {
     "data": {
      "text/latex": [
       "\\begin{align*}\\left ( A B + A^{1} B^{1} - A^{12} B^{12} - A^{123} B^{123} - A^{13} B^{13} + A^{2} B^{2} - A^{23} B^{23} + A^{3} B^{3}\\right )  + \\left ( A B^{1} + A^{1} B + A^{12} B^{2} - A^{123} B^{23} + A^{13} B^{3} - A^{2} B^{12} - A^{23} B^{123} - A^{3} B^{13}\\right ) \\boldsymbol{e}_{1} + \\left ( A B^{2} + A^{1} B^{12} - A^{12} B^{1} + A^{123} B^{13} + A^{13} B^{123} + A^{2} B + A^{23} B^{3} - A^{3} B^{23}\\right ) \\boldsymbol{e}_{2} + \\left ( A B^{3} + A^{1} B^{13} - A^{12} B^{123} - A^{123} B^{12} - A^{13} B^{1} + A^{2} B^{23} - A^{23} B^{2} + A^{3} B\\right ) \\boldsymbol{e}_{3} + \\left ( A B^{4} + A^{1} B^{14} - A^{12} B^{124} - A^{123} B^{1234} + A^{1234} B^{123} - A^{124} B^{12} - A^{13} B^{134} - A^{134} B^{13} - A^{14} B^{1} + A^{2} B^{24} - A^{23} B^{234} - A^{234} B^{23} - A^{24} B^{2} + A^{3} B^{34} - A^{34} B^{3} + A^{4} B\\right ) \\boldsymbol{e}_{4} + \\left ( A B^{12} + A^{1} B^{2} + A^{12} B + A^{123} B^{3} - A^{13} B^{23} - A^{2} B^{1} + A^{23} B^{13} + A^{3} B^{123}\\right ) \\boldsymbol{e}_{1}\\wedge \\boldsymbol{e}_{2} + \\left ( A B^{13} + A^{1} B^{3} + A^{12} B^{23} - A^{123} B^{2} + A^{13} B - A^{2} B^{123} - A^{23} B^{12} - A^{3} B^{1}\\right ) \\boldsymbol{e}_{1}\\wedge \\boldsymbol{e}_{3} + \\left ( A B^{14} + A^{1} B^{4} + A^{12} B^{24} - A^{123} B^{234} - A^{1234} B^{23} - A^{124} B^{2} + A^{13} B^{34} - A^{134} B^{3} + A^{14} B - A^{2} B^{124} - A^{23} B^{1234} + A^{234} B^{123} - A^{24} B^{12} - A^{3} B^{134} - A^{34} B^{13} - A^{4} B^{1}\\right ) \\boldsymbol{e}_{1}\\wedge \\boldsymbol{e}_{4} + \\left ( A B^{23} + A^{1} B^{123} - A^{12} B^{13} + A^{123} B^{1} + A^{13} B^{12} + A^{2} B^{3} + A^{23} B - A^{3} B^{2}\\right ) \\boldsymbol{e}_{2}\\wedge \\boldsymbol{e}_{3} + \\left ( A B^{24} + A^{1} B^{124} - A^{12} B^{14} + A^{123} B^{134} + A^{1234} B^{13} + A^{124} B^{1} + A^{13} B^{1234} - A^{134} B^{123} + A^{14} B^{12} + A^{2} B^{4} + A^{23} B^{34} - A^{234} B^{3} + A^{24} B - A^{3} B^{234} - A^{34} B^{23} - A^{4} B^{2}\\right ) \\boldsymbol{e}_{2}\\wedge \\boldsymbol{e}_{4} + \\left ( A B^{34} + A^{1} B^{134} - A^{12} B^{1234} - A^{123} B^{124} - A^{1234} B^{12} + A^{124} B^{123} - A^{13} B^{14} + A^{134} B^{1} + A^{14} B^{13} + A^{2} B^{234} - A^{23} B^{24} + A^{234} B^{2} + A^{24} B^{23} + A^{3} B^{4} + A^{34} B - A^{4} B^{3}\\right ) \\boldsymbol{e}_{3}\\wedge \\boldsymbol{e}_{4} + \\left ( A B^{123} + A^{1} B^{23} + A^{12} B^{3} + A^{123} B - A^{13} B^{2} - A^{2} B^{13} + A^{23} B^{1} + A^{3} B^{12}\\right ) \\boldsymbol{e}_{1}\\wedge \\boldsymbol{e}_{2}\\wedge \\boldsymbol{e}_{3} + \\left ( A B^{124} + A^{1} B^{24} + A^{12} B^{4} + A^{123} B^{34} - A^{1234} B^{3} + A^{124} B - A^{13} B^{234} - A^{134} B^{23} - A^{14} B^{2} - A^{2} B^{14} + A^{23} B^{134} + A^{234} B^{13} + A^{24} B^{1} + A^{3} B^{1234} - A^{34} B^{123} + A^{4} B^{12}\\right ) \\boldsymbol{e}_{1}\\wedge \\boldsymbol{e}_{2}\\wedge \\boldsymbol{e}_{4} + \\left ( A B^{134} + A^{1} B^{34} + A^{12} B^{234} - A^{123} B^{24} + A^{1234} B^{2} + A^{124} B^{23} + A^{13} B^{4} + A^{134} B - A^{14} B^{3} - A^{2} B^{1234} - A^{23} B^{124} - A^{234} B^{12} + A^{24} B^{123} - A^{3} B^{14} + A^{34} B^{1} + A^{4} B^{13}\\right ) \\boldsymbol{e}_{1}\\wedge \\boldsymbol{e}_{3}\\wedge \\boldsymbol{e}_{4} + \\left ( A B^{234} + A^{1} B^{1234} - A^{12} B^{134} + A^{123} B^{14} - A^{1234} B^{1} - A^{124} B^{13} + A^{13} B^{124} + A^{134} B^{12} - A^{14} B^{123} + A^{2} B^{34} + A^{23} B^{4} + A^{234} B - A^{24} B^{3} - A^{3} B^{24} + A^{34} B^{2} + A^{4} B^{23}\\right ) \\boldsymbol{e}_{2}\\wedge \\boldsymbol{e}_{3}\\wedge \\boldsymbol{e}_{4} + \\left ( A B^{1234} + A^{1} B^{234} + A^{12} B^{34} + A^{123} B^{4} + A^{1234} B - A^{124} B^{3} - A^{13} B^{24} + A^{134} B^{2} + A^{14} B^{23} - A^{2} B^{134} + A^{23} B^{14} - A^{234} B^{1} - A^{24} B^{13} + A^{3} B^{124} + A^{34} B^{12} - A^{4} B^{123}\\right ) \\boldsymbol{e}_{1}\\wedge \\boldsymbol{e}_{2}\\wedge \\boldsymbol{e}_{3}\\wedge \\boldsymbol{e}_{4}\\end{align*}"
      ],
      "text/plain": [
       "A*B + A__1*B__1 - A__12*B__12 - A__123*B__123 - A__13*B__13 + A__2*B__2 - A__23*B__23 + A__3*B__3 + (A*B__1 + A__1*B + A__12*B__2 - A__123*B__23 + A__13*B__3 - A__2*B__12 - A__23*B__123 - A__3*B__13)*e_1 + (A*B__2 + A__1*B__12 - A__12*B__1 + A__123*B__13 + A__13*B__123 + A__2*B + A__23*B__3 - A__3*B__23)*e_2 + (A*B__3 + A__1*B__13 - A__12*B__123 - A__123*B__12 - A__13*B__1 + A__2*B__23 - A__23*B__2 + A__3*B)*e_3 + (A*B__4 + A__1*B__14 - A__12*B__124 - A__123*B__1234 + A__1234*B__123 - A__124*B__12 - A__13*B__134 - A__134*B__13 - A__14*B__1 + A__2*B__24 - A__23*B__234 - A__234*B__23 - A__24*B__2 + A__3*B__34 - A__34*B__3 + A__4*B)*e_4 + (A*B__12 + A__1*B__2 + A__12*B + A__123*B__3 - A__13*B__23 - A__2*B__1 + A__23*B__13 + A__3*B__123)*e_1^e_2 + (A*B__13 + A__1*B__3 + A__12*B__23 - A__123*B__2 + A__13*B - A__2*B__123 - A__23*B__12 - A__3*B__1)*e_1^e_3 + (A*B__14 + A__1*B__4 + A__12*B__24 - A__123*B__234 - A__1234*B__23 - A__124*B__2 + A__13*B__34 - A__134*B__3 + A__14*B - A__2*B__124 - A__23*B__1234 + A__234*B__123 - A__24*B__12 - A__3*B__134 - A__34*B__13 - A__4*B__1)*e_1^e_4 + (A*B__23 + A__1*B__123 - A__12*B__13 + A__123*B__1 + A__13*B__12 + A__2*B__3 + A__23*B - A__3*B__2)*e_2^e_3 + (A*B__24 + A__1*B__124 - A__12*B__14 + A__123*B__134 + A__1234*B__13 + A__124*B__1 + A__13*B__1234 - A__134*B__123 + A__14*B__12 + A__2*B__4 + A__23*B__34 - A__234*B__3 + A__24*B - A__3*B__234 - A__34*B__23 - A__4*B__2)*e_2^e_4 + (A*B__34 + A__1*B__134 - A__12*B__1234 - A__123*B__124 - A__1234*B__12 + A__124*B__123 - A__13*B__14 + A__134*B__1 + A__14*B__13 + A__2*B__234 - A__23*B__24 + A__234*B__2 + A__24*B__23 + A__3*B__4 + A__34*B - A__4*B__3)*e_3^e_4 + (A*B__123 + A__1*B__23 + A__12*B__3 + A__123*B - A__13*B__2 - A__2*B__13 + A__23*B__1 + A__3*B__12)*e_1^e_2^e_3 + (A*B__124 + A__1*B__24 + A__12*B__4 + A__123*B__34 - A__1234*B__3 + A__124*B - A__13*B__234 - A__134*B__23 - A__14*B__2 - A__2*B__14 + A__23*B__134 + A__234*B__13 + A__24*B__1 + A__3*B__1234 - A__34*B__123 + A__4*B__12)*e_1^e_2^e_4 + (A*B__134 + A__1*B__34 + A__12*B__234 - A__123*B__24 + A__1234*B__2 + A__124*B__23 + A__13*B__4 + A__134*B - A__14*B__3 - A__2*B__1234 - A__23*B__124 - A__234*B__12 + A__24*B__123 - A__3*B__14 + A__34*B__1 + A__4*B__13)*e_1^e_3^e_4 + (A*B__234 + A__1*B__1234 - A__12*B__134 + A__123*B__14 - A__1234*B__1 - A__124*B__13 + A__13*B__124 + A__134*B__12 - A__14*B__123 + A__2*B__34 + A__23*B__4 + A__234*B - A__24*B__3 - A__3*B__24 + A__34*B__2 + A__4*B__23)*e_2^e_3^e_4 + (A*B__1234 + A__1*B__234 + A__12*B__34 + A__123*B__4 + A__1234*B - A__124*B__3 - A__13*B__24 + A__134*B__2 + A__14*B__23 - A__2*B__134 + A__23*B__14 - A__234*B__1 - A__24*B__13 + A__3*B__124 + A__34*B__12 - A__4*B__123)*e_1^e_2^e_3^e_4"
      ]
     },
     "metadata": {},
     "output_type": "display_data"
    }
   ],
   "source": [
    "@time @profile test_geometric_product(PGA3D)"
   ]
  }
 ],
 "metadata": {
  "kernelspec": {
   "display_name": "Julia 1.8.4",
   "language": "julia",
   "name": "julia-1.8"
  },
  "language_info": {
   "file_extension": ".jl",
   "mimetype": "application/julia",
   "name": "julia",
   "version": "1.8.4"
  }
 },
 "nbformat": 4,
 "nbformat_minor": 2
}
